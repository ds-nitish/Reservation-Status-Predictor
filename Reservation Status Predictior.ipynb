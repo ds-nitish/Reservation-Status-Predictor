{
  "nbformat": 4,
  "nbformat_minor": 0,
  "metadata": {
    "colab": {
      "provenance": [],
      "gpuType": "T4"
    },
    "kernelspec": {
      "name": "python3",
      "display_name": "Python 3"
    },
    "language_info": {
      "name": "python"
    },
    "accelerator": "GPU"
  },
  "cells": [
    {
      "cell_type": "code",
      "execution_count": 102,
      "metadata": {
        "id": "HOYER-8_vTX-"
      },
      "outputs": [],
      "source": [
        "import pandas as pd\n",
        "import numpy as np\n",
        "import matplotlib.pyplot as plt\n",
        "import seaborn as sns\n",
        "%matplotlib inline\n",
        "import tensorflow.keras as keras\n",
        "from keras.layers import Dense , Dropout\n",
        "from keras.models import Sequential"
      ]
    },
    {
      "cell_type": "code",
      "execution_count": 103,
      "metadata": {
        "id": "Xjpz0skQwiyP"
      },
      "outputs": [],
      "source": [
        "df = pd.read_csv('/content/train.csv')"
      ]
    },
    {
      "cell_type": "code",
      "execution_count": 104,
      "metadata": {
        "colab": {
          "base_uri": "https://localhost:8080/",
          "height": 270
        },
        "id": "R79Ov63wwoNn",
        "outputId": "28d5d4e8-fe16-45b6-cfcd-4a65214f3857"
      },
      "outputs": [
        {
          "output_type": "execute_result",
          "data": {
            "text/plain": [
              "   id  no_of_adults  no_of_children  no_of_weekend_nights  no_of_week_nights  \\\n",
              "0   0             2               0                     0                  2   \n",
              "1   1             2               0                     1                  2   \n",
              "2   2             2               0                     0                  1   \n",
              "3   3             1               0                     0                  2   \n",
              "4   4             2               0                     1                  0   \n",
              "\n",
              "   type_of_meal_plan  required_car_parking_space  room_type_reserved  \\\n",
              "0                  1                           0                   0   \n",
              "1                  0                           0                   0   \n",
              "2                  0                           0                   0   \n",
              "3                  1                           0                   0   \n",
              "4                  0                           0                   0   \n",
              "\n",
              "   lead_time  arrival_year  arrival_month  arrival_date  market_segment_type  \\\n",
              "0          9          2018              1            14                    1   \n",
              "1        117          2018              7            29                    0   \n",
              "2        315          2018             12             2                    0   \n",
              "3         32          2018             12             1                    1   \n",
              "4        258          2018             10            16                    0   \n",
              "\n",
              "   repeated_guest  no_of_previous_cancellations  \\\n",
              "0               1                            11   \n",
              "1               0                             0   \n",
              "2               0                             0   \n",
              "3               0                             0   \n",
              "4               0                             0   \n",
              "\n",
              "   no_of_previous_bookings_not_canceled  avg_price_per_room  \\\n",
              "0                                     0               67.50   \n",
              "1                                     0               72.25   \n",
              "2                                     0               52.00   \n",
              "3                                     0               56.00   \n",
              "4                                     0              100.00   \n",
              "\n",
              "   no_of_special_requests  booking_status  \n",
              "0                       0               0  \n",
              "1                       0               0  \n",
              "2                       0               0  \n",
              "3                       0               0  \n",
              "4                       0               1  "
            ],
            "text/html": [
              "\n",
              "  <div id=\"df-bd5a1f2a-ea50-415a-ac8b-e8d3a6ae9121\">\n",
              "    <div class=\"colab-df-container\">\n",
              "      <div>\n",
              "<style scoped>\n",
              "    .dataframe tbody tr th:only-of-type {\n",
              "        vertical-align: middle;\n",
              "    }\n",
              "\n",
              "    .dataframe tbody tr th {\n",
              "        vertical-align: top;\n",
              "    }\n",
              "\n",
              "    .dataframe thead th {\n",
              "        text-align: right;\n",
              "    }\n",
              "</style>\n",
              "<table border=\"1\" class=\"dataframe\">\n",
              "  <thead>\n",
              "    <tr style=\"text-align: right;\">\n",
              "      <th></th>\n",
              "      <th>id</th>\n",
              "      <th>no_of_adults</th>\n",
              "      <th>no_of_children</th>\n",
              "      <th>no_of_weekend_nights</th>\n",
              "      <th>no_of_week_nights</th>\n",
              "      <th>type_of_meal_plan</th>\n",
              "      <th>required_car_parking_space</th>\n",
              "      <th>room_type_reserved</th>\n",
              "      <th>lead_time</th>\n",
              "      <th>arrival_year</th>\n",
              "      <th>arrival_month</th>\n",
              "      <th>arrival_date</th>\n",
              "      <th>market_segment_type</th>\n",
              "      <th>repeated_guest</th>\n",
              "      <th>no_of_previous_cancellations</th>\n",
              "      <th>no_of_previous_bookings_not_canceled</th>\n",
              "      <th>avg_price_per_room</th>\n",
              "      <th>no_of_special_requests</th>\n",
              "      <th>booking_status</th>\n",
              "    </tr>\n",
              "  </thead>\n",
              "  <tbody>\n",
              "    <tr>\n",
              "      <th>0</th>\n",
              "      <td>0</td>\n",
              "      <td>2</td>\n",
              "      <td>0</td>\n",
              "      <td>0</td>\n",
              "      <td>2</td>\n",
              "      <td>1</td>\n",
              "      <td>0</td>\n",
              "      <td>0</td>\n",
              "      <td>9</td>\n",
              "      <td>2018</td>\n",
              "      <td>1</td>\n",
              "      <td>14</td>\n",
              "      <td>1</td>\n",
              "      <td>1</td>\n",
              "      <td>11</td>\n",
              "      <td>0</td>\n",
              "      <td>67.50</td>\n",
              "      <td>0</td>\n",
              "      <td>0</td>\n",
              "    </tr>\n",
              "    <tr>\n",
              "      <th>1</th>\n",
              "      <td>1</td>\n",
              "      <td>2</td>\n",
              "      <td>0</td>\n",
              "      <td>1</td>\n",
              "      <td>2</td>\n",
              "      <td>0</td>\n",
              "      <td>0</td>\n",
              "      <td>0</td>\n",
              "      <td>117</td>\n",
              "      <td>2018</td>\n",
              "      <td>7</td>\n",
              "      <td>29</td>\n",
              "      <td>0</td>\n",
              "      <td>0</td>\n",
              "      <td>0</td>\n",
              "      <td>0</td>\n",
              "      <td>72.25</td>\n",
              "      <td>0</td>\n",
              "      <td>0</td>\n",
              "    </tr>\n",
              "    <tr>\n",
              "      <th>2</th>\n",
              "      <td>2</td>\n",
              "      <td>2</td>\n",
              "      <td>0</td>\n",
              "      <td>0</td>\n",
              "      <td>1</td>\n",
              "      <td>0</td>\n",
              "      <td>0</td>\n",
              "      <td>0</td>\n",
              "      <td>315</td>\n",
              "      <td>2018</td>\n",
              "      <td>12</td>\n",
              "      <td>2</td>\n",
              "      <td>0</td>\n",
              "      <td>0</td>\n",
              "      <td>0</td>\n",
              "      <td>0</td>\n",
              "      <td>52.00</td>\n",
              "      <td>0</td>\n",
              "      <td>0</td>\n",
              "    </tr>\n",
              "    <tr>\n",
              "      <th>3</th>\n",
              "      <td>3</td>\n",
              "      <td>1</td>\n",
              "      <td>0</td>\n",
              "      <td>0</td>\n",
              "      <td>2</td>\n",
              "      <td>1</td>\n",
              "      <td>0</td>\n",
              "      <td>0</td>\n",
              "      <td>32</td>\n",
              "      <td>2018</td>\n",
              "      <td>12</td>\n",
              "      <td>1</td>\n",
              "      <td>1</td>\n",
              "      <td>0</td>\n",
              "      <td>0</td>\n",
              "      <td>0</td>\n",
              "      <td>56.00</td>\n",
              "      <td>0</td>\n",
              "      <td>0</td>\n",
              "    </tr>\n",
              "    <tr>\n",
              "      <th>4</th>\n",
              "      <td>4</td>\n",
              "      <td>2</td>\n",
              "      <td>0</td>\n",
              "      <td>1</td>\n",
              "      <td>0</td>\n",
              "      <td>0</td>\n",
              "      <td>0</td>\n",
              "      <td>0</td>\n",
              "      <td>258</td>\n",
              "      <td>2018</td>\n",
              "      <td>10</td>\n",
              "      <td>16</td>\n",
              "      <td>0</td>\n",
              "      <td>0</td>\n",
              "      <td>0</td>\n",
              "      <td>0</td>\n",
              "      <td>100.00</td>\n",
              "      <td>0</td>\n",
              "      <td>1</td>\n",
              "    </tr>\n",
              "  </tbody>\n",
              "</table>\n",
              "</div>\n",
              "      <button class=\"colab-df-convert\" onclick=\"convertToInteractive('df-bd5a1f2a-ea50-415a-ac8b-e8d3a6ae9121')\"\n",
              "              title=\"Convert this dataframe to an interactive table.\"\n",
              "              style=\"display:none;\">\n",
              "        \n",
              "  <svg xmlns=\"http://www.w3.org/2000/svg\" height=\"24px\"viewBox=\"0 0 24 24\"\n",
              "       width=\"24px\">\n",
              "    <path d=\"M0 0h24v24H0V0z\" fill=\"none\"/>\n",
              "    <path d=\"M18.56 5.44l.94 2.06.94-2.06 2.06-.94-2.06-.94-.94-2.06-.94 2.06-2.06.94zm-11 1L8.5 8.5l.94-2.06 2.06-.94-2.06-.94L8.5 2.5l-.94 2.06-2.06.94zm10 10l.94 2.06.94-2.06 2.06-.94-2.06-.94-.94-2.06-.94 2.06-2.06.94z\"/><path d=\"M17.41 7.96l-1.37-1.37c-.4-.4-.92-.59-1.43-.59-.52 0-1.04.2-1.43.59L10.3 9.45l-7.72 7.72c-.78.78-.78 2.05 0 2.83L4 21.41c.39.39.9.59 1.41.59.51 0 1.02-.2 1.41-.59l7.78-7.78 2.81-2.81c.8-.78.8-2.07 0-2.86zM5.41 20L4 18.59l7.72-7.72 1.47 1.35L5.41 20z\"/>\n",
              "  </svg>\n",
              "      </button>\n",
              "      \n",
              "  <style>\n",
              "    .colab-df-container {\n",
              "      display:flex;\n",
              "      flex-wrap:wrap;\n",
              "      gap: 12px;\n",
              "    }\n",
              "\n",
              "    .colab-df-convert {\n",
              "      background-color: #E8F0FE;\n",
              "      border: none;\n",
              "      border-radius: 50%;\n",
              "      cursor: pointer;\n",
              "      display: none;\n",
              "      fill: #1967D2;\n",
              "      height: 32px;\n",
              "      padding: 0 0 0 0;\n",
              "      width: 32px;\n",
              "    }\n",
              "\n",
              "    .colab-df-convert:hover {\n",
              "      background-color: #E2EBFA;\n",
              "      box-shadow: 0px 1px 2px rgba(60, 64, 67, 0.3), 0px 1px 3px 1px rgba(60, 64, 67, 0.15);\n",
              "      fill: #174EA6;\n",
              "    }\n",
              "\n",
              "    [theme=dark] .colab-df-convert {\n",
              "      background-color: #3B4455;\n",
              "      fill: #D2E3FC;\n",
              "    }\n",
              "\n",
              "    [theme=dark] .colab-df-convert:hover {\n",
              "      background-color: #434B5C;\n",
              "      box-shadow: 0px 1px 3px 1px rgba(0, 0, 0, 0.15);\n",
              "      filter: drop-shadow(0px 1px 2px rgba(0, 0, 0, 0.3));\n",
              "      fill: #FFFFFF;\n",
              "    }\n",
              "  </style>\n",
              "\n",
              "      <script>\n",
              "        const buttonEl =\n",
              "          document.querySelector('#df-bd5a1f2a-ea50-415a-ac8b-e8d3a6ae9121 button.colab-df-convert');\n",
              "        buttonEl.style.display =\n",
              "          google.colab.kernel.accessAllowed ? 'block' : 'none';\n",
              "\n",
              "        async function convertToInteractive(key) {\n",
              "          const element = document.querySelector('#df-bd5a1f2a-ea50-415a-ac8b-e8d3a6ae9121');\n",
              "          const dataTable =\n",
              "            await google.colab.kernel.invokeFunction('convertToInteractive',\n",
              "                                                     [key], {});\n",
              "          if (!dataTable) return;\n",
              "\n",
              "          const docLinkHtml = 'Like what you see? Visit the ' +\n",
              "            '<a target=\"_blank\" href=https://colab.research.google.com/notebooks/data_table.ipynb>data table notebook</a>'\n",
              "            + ' to learn more about interactive tables.';\n",
              "          element.innerHTML = '';\n",
              "          dataTable['output_type'] = 'display_data';\n",
              "          await google.colab.output.renderOutput(dataTable, element);\n",
              "          const docLink = document.createElement('div');\n",
              "          docLink.innerHTML = docLinkHtml;\n",
              "          element.appendChild(docLink);\n",
              "        }\n",
              "      </script>\n",
              "    </div>\n",
              "  </div>\n",
              "  "
            ]
          },
          "metadata": {},
          "execution_count": 104
        }
      ],
      "source": [
        "df.head()"
      ]
    },
    {
      "cell_type": "code",
      "source": [
        "df['booking_status'].value_counts()"
      ],
      "metadata": {
        "colab": {
          "base_uri": "https://localhost:8080/"
        },
        "id": "gYT-itvAO_PY",
        "outputId": "91fc1241-9dfd-49be-daee-1e5981d81175"
      },
      "execution_count": 105,
      "outputs": [
        {
          "output_type": "execute_result",
          "data": {
            "text/plain": [
              "0    25596\n",
              "1    16504\n",
              "Name: booking_status, dtype: int64"
            ]
          },
          "metadata": {},
          "execution_count": 105
        }
      ]
    },
    {
      "cell_type": "code",
      "execution_count": 106,
      "metadata": {
        "colab": {
          "base_uri": "https://localhost:8080/",
          "height": 709
        },
        "id": "MWcQPiHqwpSK",
        "outputId": "4f772dda-9864-440e-8e97-8909af73e879"
      },
      "outputs": [
        {
          "output_type": "execute_result",
          "data": {
            "text/plain": [
              "                                            id  no_of_adults  no_of_children  \\\n",
              "id                                    1.000000      0.006210        0.001231   \n",
              "no_of_adults                          0.006210      1.000000       -0.031669   \n",
              "no_of_children                        0.001231     -0.031669        1.000000   \n",
              "no_of_weekend_nights                 -0.002004      0.071417       -0.018453   \n",
              "no_of_week_nights                    -0.000970      0.082347       -0.044519   \n",
              "type_of_meal_plan                     0.001623     -0.038004       -0.066252   \n",
              "required_car_parking_space            0.004551     -0.014628        0.026916   \n",
              "room_type_reserved                    0.004952      0.160038        0.446015   \n",
              "lead_time                            -0.003176      0.085969       -0.151382   \n",
              "arrival_year                         -0.004313      0.111617        0.043867   \n",
              "arrival_month                         0.005980      0.018059       -0.018420   \n",
              "arrival_date                         -0.007283      0.030865        0.026428   \n",
              "market_segment_type                   0.005699     -0.019303        0.131166   \n",
              "repeated_guest                        0.002871     -0.249581       -0.047146   \n",
              "no_of_previous_cancellations          0.008362     -0.068073       -0.014755   \n",
              "no_of_previous_bookings_not_canceled  0.001026     -0.152986       -0.027848   \n",
              "avg_price_per_room                    0.002944      0.320082        0.370766   \n",
              "no_of_special_requests               -0.000743      0.185158        0.164969   \n",
              "booking_status                        0.007264      0.079760        0.004260   \n",
              "\n",
              "                                      no_of_weekend_nights  no_of_week_nights  \\\n",
              "id                                               -0.002004          -0.000970   \n",
              "no_of_adults                                      0.071417           0.082347   \n",
              "no_of_children                                   -0.018453          -0.044519   \n",
              "no_of_weekend_nights                              1.000000           0.188200   \n",
              "no_of_week_nights                                 0.188200           1.000000   \n",
              "type_of_meal_plan                                -0.025613          -0.072577   \n",
              "required_car_parking_space                       -0.037671          -0.060155   \n",
              "room_type_reserved                               -0.010716          -0.001363   \n",
              "lead_time                                         0.076146           0.091935   \n",
              "arrival_year                                      0.043962           0.054174   \n",
              "arrival_month                                    -0.024495           0.022302   \n",
              "arrival_date                                      0.024276          -0.018058   \n",
              "market_segment_type                              -0.013913          -0.011606   \n",
              "repeated_guest                                   -0.082078          -0.132183   \n",
              "no_of_previous_cancellations                     -0.031709          -0.036995   \n",
              "no_of_previous_bookings_not_canceled             -0.039084          -0.068045   \n",
              "avg_price_per_room                               -0.041083          -0.000323   \n",
              "no_of_special_requests                            0.026503           0.032639   \n",
              "booking_status                                    0.044279           0.058506   \n",
              "\n",
              "                                      type_of_meal_plan  \\\n",
              "id                                             0.001623   \n",
              "no_of_adults                                  -0.038004   \n",
              "no_of_children                                -0.066252   \n",
              "no_of_weekend_nights                          -0.025613   \n",
              "no_of_week_nights                             -0.072577   \n",
              "type_of_meal_plan                              1.000000   \n",
              "required_car_parking_space                    -0.016814   \n",
              "room_type_reserved                            -0.139149   \n",
              "lead_time                                      0.087172   \n",
              "arrival_year                                  -0.100922   \n",
              "arrival_month                                  0.010629   \n",
              "arrival_date                                  -0.011635   \n",
              "market_segment_type                           -0.092322   \n",
              "repeated_guest                                -0.059776   \n",
              "no_of_previous_cancellations                  -0.012222   \n",
              "no_of_previous_bookings_not_canceled          -0.039064   \n",
              "avg_price_per_room                             0.015905   \n",
              "no_of_special_requests                        -0.056030   \n",
              "booking_status                                 0.045980   \n",
              "\n",
              "                                      required_car_parking_space  \\\n",
              "id                                                      0.004551   \n",
              "no_of_adults                                           -0.014628   \n",
              "no_of_children                                          0.026916   \n",
              "no_of_weekend_nights                                   -0.037671   \n",
              "no_of_week_nights                                      -0.060155   \n",
              "type_of_meal_plan                                      -0.016814   \n",
              "required_car_parking_space                              1.000000   \n",
              "room_type_reserved                                      0.036742   \n",
              "lead_time                                              -0.084330   \n",
              "arrival_year                                            0.017161   \n",
              "arrival_month                                          -0.017495   \n",
              "arrival_date                                           -0.006198   \n",
              "market_segment_type                                     0.121791   \n",
              "repeated_guest                                          0.163659   \n",
              "no_of_previous_cancellations                            0.023254   \n",
              "no_of_previous_bookings_not_canceled                    0.082706   \n",
              "avg_price_per_room                                      0.054392   \n",
              "no_of_special_requests                                  0.083465   \n",
              "booking_status                                         -0.093262   \n",
              "\n",
              "                                      room_type_reserved  lead_time  \\\n",
              "id                                              0.004952  -0.003176   \n",
              "no_of_adults                                    0.160038   0.085969   \n",
              "no_of_children                                  0.446015  -0.151382   \n",
              "no_of_weekend_nights                           -0.010716   0.076146   \n",
              "no_of_week_nights                              -0.001363   0.091935   \n",
              "type_of_meal_plan                              -0.139149   0.087172   \n",
              "required_car_parking_space                      0.036742  -0.084330   \n",
              "room_type_reserved                              1.000000  -0.224454   \n",
              "lead_time                                      -0.224454   1.000000   \n",
              "arrival_year                                    0.054004   0.182180   \n",
              "arrival_month                                  -0.016770   0.133341   \n",
              "arrival_date                                    0.024594   0.008967   \n",
              "market_segment_type                             0.258695  -0.073728   \n",
              "repeated_guest                                 -0.038326  -0.201637   \n",
              "no_of_previous_cancellations                   -0.010333  -0.066618   \n",
              "no_of_previous_bookings_not_canceled           -0.016110  -0.120447   \n",
              "avg_price_per_room                              0.423991  -0.107403   \n",
              "no_of_special_requests                          0.162649  -0.035659   \n",
              "booking_status                                 -0.023087   0.374865   \n",
              "\n",
              "                                      arrival_year  arrival_month  \\\n",
              "id                                       -0.004313       0.005980   \n",
              "no_of_adults                              0.111617       0.018059   \n",
              "no_of_children                            0.043867      -0.018420   \n",
              "no_of_weekend_nights                      0.043962      -0.024495   \n",
              "no_of_week_nights                         0.054174       0.022302   \n",
              "type_of_meal_plan                        -0.100922       0.010629   \n",
              "required_car_parking_space                0.017161      -0.017495   \n",
              "room_type_reserved                        0.054004      -0.016770   \n",
              "lead_time                                 0.182180       0.133341   \n",
              "arrival_year                              1.000000      -0.311024   \n",
              "arrival_month                            -0.311024       1.000000   \n",
              "arrival_date                              0.006512      -0.028602   \n",
              "market_segment_type                       0.156204      -0.027296   \n",
              "repeated_guest                           -0.031529      -0.009498   \n",
              "no_of_previous_cancellations             -0.004307      -0.037015   \n",
              "no_of_previous_bookings_not_canceled      0.014911      -0.016383   \n",
              "avg_price_per_room                        0.232151       0.004746   \n",
              "no_of_special_requests                    0.098462       0.058336   \n",
              "booking_status                            0.178326       0.007639   \n",
              "\n",
              "                                      arrival_date  market_segment_type  \\\n",
              "id                                       -0.007283             0.005699   \n",
              "no_of_adults                              0.030865            -0.019303   \n",
              "no_of_children                            0.026428             0.131166   \n",
              "no_of_weekend_nights                      0.024276            -0.013913   \n",
              "no_of_week_nights                        -0.018058            -0.011606   \n",
              "type_of_meal_plan                        -0.011635            -0.092322   \n",
              "required_car_parking_space               -0.006198             0.121791   \n",
              "room_type_reserved                        0.024594             0.258695   \n",
              "lead_time                                 0.008967            -0.073728   \n",
              "arrival_year                              0.006512             0.156204   \n",
              "arrival_month                            -0.028602            -0.027296   \n",
              "arrival_date                              1.000000             0.007811   \n",
              "market_segment_type                       0.007811             1.000000   \n",
              "repeated_guest                           -0.004155             0.385228   \n",
              "no_of_previous_cancellations             -0.008312             0.094857   \n",
              "no_of_previous_bookings_not_canceled     -0.000523             0.243284   \n",
              "avg_price_per_room                       -0.006439             0.071973   \n",
              "no_of_special_requests                    0.028791             0.248218   \n",
              "booking_status                            0.003124             0.112648   \n",
              "\n",
              "                                      repeated_guest  \\\n",
              "id                                          0.002871   \n",
              "no_of_adults                               -0.249581   \n",
              "no_of_children                             -0.047146   \n",
              "no_of_weekend_nights                       -0.082078   \n",
              "no_of_week_nights                          -0.132183   \n",
              "type_of_meal_plan                          -0.059776   \n",
              "required_car_parking_space                  0.163659   \n",
              "room_type_reserved                         -0.038326   \n",
              "lead_time                                  -0.201637   \n",
              "arrival_year                               -0.031529   \n",
              "arrival_month                              -0.009498   \n",
              "arrival_date                               -0.004155   \n",
              "market_segment_type                         0.385228   \n",
              "repeated_guest                              1.000000   \n",
              "no_of_previous_cancellations                0.348925   \n",
              "no_of_previous_bookings_not_canceled        0.585205   \n",
              "avg_price_per_room                         -0.201720   \n",
              "no_of_special_requests                     -0.011772   \n",
              "booking_status                             -0.136065   \n",
              "\n",
              "                                      no_of_previous_cancellations  \\\n",
              "id                                                        0.008362   \n",
              "no_of_adults                                             -0.068073   \n",
              "no_of_children                                           -0.014755   \n",
              "no_of_weekend_nights                                     -0.031709   \n",
              "no_of_week_nights                                        -0.036995   \n",
              "type_of_meal_plan                                        -0.012222   \n",
              "required_car_parking_space                                0.023254   \n",
              "room_type_reserved                                       -0.010333   \n",
              "lead_time                                                -0.066618   \n",
              "arrival_year                                             -0.004307   \n",
              "arrival_month                                            -0.037015   \n",
              "arrival_date                                             -0.008312   \n",
              "market_segment_type                                       0.094857   \n",
              "repeated_guest                                            0.348925   \n",
              "no_of_previous_cancellations                              1.000000   \n",
              "no_of_previous_bookings_not_canceled                      0.427274   \n",
              "avg_price_per_room                                       -0.066916   \n",
              "no_of_special_requests                                   -0.006447   \n",
              "booking_status                                           -0.045599   \n",
              "\n",
              "                                      no_of_previous_bookings_not_canceled  \\\n",
              "id                                                                0.001026   \n",
              "no_of_adults                                                     -0.152986   \n",
              "no_of_children                                                   -0.027848   \n",
              "no_of_weekend_nights                                             -0.039084   \n",
              "no_of_week_nights                                                -0.068045   \n",
              "type_of_meal_plan                                                -0.039064   \n",
              "required_car_parking_space                                        0.082706   \n",
              "room_type_reserved                                               -0.016110   \n",
              "lead_time                                                        -0.120447   \n",
              "arrival_year                                                      0.014911   \n",
              "arrival_month                                                    -0.016383   \n",
              "arrival_date                                                     -0.000523   \n",
              "market_segment_type                                               0.243284   \n",
              "repeated_guest                                                    0.585205   \n",
              "no_of_previous_cancellations                                      0.427274   \n",
              "no_of_previous_bookings_not_canceled                              1.000000   \n",
              "avg_price_per_room                                               -0.129242   \n",
              "no_of_special_requests                                            0.011363   \n",
              "booking_status                                                   -0.080166   \n",
              "\n",
              "                                      avg_price_per_room  \\\n",
              "id                                              0.002944   \n",
              "no_of_adults                                    0.320082   \n",
              "no_of_children                                  0.370766   \n",
              "no_of_weekend_nights                           -0.041083   \n",
              "no_of_week_nights                              -0.000323   \n",
              "type_of_meal_plan                               0.015905   \n",
              "required_car_parking_space                      0.054392   \n",
              "room_type_reserved                              0.423991   \n",
              "lead_time                                      -0.107403   \n",
              "arrival_year                                    0.232151   \n",
              "arrival_month                                   0.004746   \n",
              "arrival_date                                   -0.006439   \n",
              "market_segment_type                             0.071973   \n",
              "repeated_guest                                 -0.201720   \n",
              "no_of_previous_cancellations                   -0.066916   \n",
              "no_of_previous_bookings_not_canceled           -0.129242   \n",
              "avg_price_per_room                              1.000000   \n",
              "no_of_special_requests                          0.206168   \n",
              "booking_status                                  0.157484   \n",
              "\n",
              "                                      no_of_special_requests  booking_status  \n",
              "id                                                 -0.000743        0.007264  \n",
              "no_of_adults                                        0.185158        0.079760  \n",
              "no_of_children                                      0.164969        0.004260  \n",
              "no_of_weekend_nights                                0.026503        0.044279  \n",
              "no_of_week_nights                                   0.032639        0.058506  \n",
              "type_of_meal_plan                                  -0.056030        0.045980  \n",
              "required_car_parking_space                          0.083465       -0.093262  \n",
              "room_type_reserved                                  0.162649       -0.023087  \n",
              "lead_time                                          -0.035659        0.374865  \n",
              "arrival_year                                        0.098462        0.178326  \n",
              "arrival_month                                       0.058336        0.007639  \n",
              "arrival_date                                        0.028791        0.003124  \n",
              "market_segment_type                                 0.248218        0.112648  \n",
              "repeated_guest                                     -0.011772       -0.136065  \n",
              "no_of_previous_cancellations                       -0.006447       -0.045599  \n",
              "no_of_previous_bookings_not_canceled                0.011363       -0.080166  \n",
              "avg_price_per_room                                  0.206168        0.157484  \n",
              "no_of_special_requests                              1.000000       -0.220278  \n",
              "booking_status                                     -0.220278        1.000000  "
            ],
            "text/html": [
              "\n",
              "  <div id=\"df-6e56d0fc-801c-423f-a926-9a813dcc2cf0\">\n",
              "    <div class=\"colab-df-container\">\n",
              "      <div>\n",
              "<style scoped>\n",
              "    .dataframe tbody tr th:only-of-type {\n",
              "        vertical-align: middle;\n",
              "    }\n",
              "\n",
              "    .dataframe tbody tr th {\n",
              "        vertical-align: top;\n",
              "    }\n",
              "\n",
              "    .dataframe thead th {\n",
              "        text-align: right;\n",
              "    }\n",
              "</style>\n",
              "<table border=\"1\" class=\"dataframe\">\n",
              "  <thead>\n",
              "    <tr style=\"text-align: right;\">\n",
              "      <th></th>\n",
              "      <th>id</th>\n",
              "      <th>no_of_adults</th>\n",
              "      <th>no_of_children</th>\n",
              "      <th>no_of_weekend_nights</th>\n",
              "      <th>no_of_week_nights</th>\n",
              "      <th>type_of_meal_plan</th>\n",
              "      <th>required_car_parking_space</th>\n",
              "      <th>room_type_reserved</th>\n",
              "      <th>lead_time</th>\n",
              "      <th>arrival_year</th>\n",
              "      <th>arrival_month</th>\n",
              "      <th>arrival_date</th>\n",
              "      <th>market_segment_type</th>\n",
              "      <th>repeated_guest</th>\n",
              "      <th>no_of_previous_cancellations</th>\n",
              "      <th>no_of_previous_bookings_not_canceled</th>\n",
              "      <th>avg_price_per_room</th>\n",
              "      <th>no_of_special_requests</th>\n",
              "      <th>booking_status</th>\n",
              "    </tr>\n",
              "  </thead>\n",
              "  <tbody>\n",
              "    <tr>\n",
              "      <th>id</th>\n",
              "      <td>1.000000</td>\n",
              "      <td>0.006210</td>\n",
              "      <td>0.001231</td>\n",
              "      <td>-0.002004</td>\n",
              "      <td>-0.000970</td>\n",
              "      <td>0.001623</td>\n",
              "      <td>0.004551</td>\n",
              "      <td>0.004952</td>\n",
              "      <td>-0.003176</td>\n",
              "      <td>-0.004313</td>\n",
              "      <td>0.005980</td>\n",
              "      <td>-0.007283</td>\n",
              "      <td>0.005699</td>\n",
              "      <td>0.002871</td>\n",
              "      <td>0.008362</td>\n",
              "      <td>0.001026</td>\n",
              "      <td>0.002944</td>\n",
              "      <td>-0.000743</td>\n",
              "      <td>0.007264</td>\n",
              "    </tr>\n",
              "    <tr>\n",
              "      <th>no_of_adults</th>\n",
              "      <td>0.006210</td>\n",
              "      <td>1.000000</td>\n",
              "      <td>-0.031669</td>\n",
              "      <td>0.071417</td>\n",
              "      <td>0.082347</td>\n",
              "      <td>-0.038004</td>\n",
              "      <td>-0.014628</td>\n",
              "      <td>0.160038</td>\n",
              "      <td>0.085969</td>\n",
              "      <td>0.111617</td>\n",
              "      <td>0.018059</td>\n",
              "      <td>0.030865</td>\n",
              "      <td>-0.019303</td>\n",
              "      <td>-0.249581</td>\n",
              "      <td>-0.068073</td>\n",
              "      <td>-0.152986</td>\n",
              "      <td>0.320082</td>\n",
              "      <td>0.185158</td>\n",
              "      <td>0.079760</td>\n",
              "    </tr>\n",
              "    <tr>\n",
              "      <th>no_of_children</th>\n",
              "      <td>0.001231</td>\n",
              "      <td>-0.031669</td>\n",
              "      <td>1.000000</td>\n",
              "      <td>-0.018453</td>\n",
              "      <td>-0.044519</td>\n",
              "      <td>-0.066252</td>\n",
              "      <td>0.026916</td>\n",
              "      <td>0.446015</td>\n",
              "      <td>-0.151382</td>\n",
              "      <td>0.043867</td>\n",
              "      <td>-0.018420</td>\n",
              "      <td>0.026428</td>\n",
              "      <td>0.131166</td>\n",
              "      <td>-0.047146</td>\n",
              "      <td>-0.014755</td>\n",
              "      <td>-0.027848</td>\n",
              "      <td>0.370766</td>\n",
              "      <td>0.164969</td>\n",
              "      <td>0.004260</td>\n",
              "    </tr>\n",
              "    <tr>\n",
              "      <th>no_of_weekend_nights</th>\n",
              "      <td>-0.002004</td>\n",
              "      <td>0.071417</td>\n",
              "      <td>-0.018453</td>\n",
              "      <td>1.000000</td>\n",
              "      <td>0.188200</td>\n",
              "      <td>-0.025613</td>\n",
              "      <td>-0.037671</td>\n",
              "      <td>-0.010716</td>\n",
              "      <td>0.076146</td>\n",
              "      <td>0.043962</td>\n",
              "      <td>-0.024495</td>\n",
              "      <td>0.024276</td>\n",
              "      <td>-0.013913</td>\n",
              "      <td>-0.082078</td>\n",
              "      <td>-0.031709</td>\n",
              "      <td>-0.039084</td>\n",
              "      <td>-0.041083</td>\n",
              "      <td>0.026503</td>\n",
              "      <td>0.044279</td>\n",
              "    </tr>\n",
              "    <tr>\n",
              "      <th>no_of_week_nights</th>\n",
              "      <td>-0.000970</td>\n",
              "      <td>0.082347</td>\n",
              "      <td>-0.044519</td>\n",
              "      <td>0.188200</td>\n",
              "      <td>1.000000</td>\n",
              "      <td>-0.072577</td>\n",
              "      <td>-0.060155</td>\n",
              "      <td>-0.001363</td>\n",
              "      <td>0.091935</td>\n",
              "      <td>0.054174</td>\n",
              "      <td>0.022302</td>\n",
              "      <td>-0.018058</td>\n",
              "      <td>-0.011606</td>\n",
              "      <td>-0.132183</td>\n",
              "      <td>-0.036995</td>\n",
              "      <td>-0.068045</td>\n",
              "      <td>-0.000323</td>\n",
              "      <td>0.032639</td>\n",
              "      <td>0.058506</td>\n",
              "    </tr>\n",
              "    <tr>\n",
              "      <th>type_of_meal_plan</th>\n",
              "      <td>0.001623</td>\n",
              "      <td>-0.038004</td>\n",
              "      <td>-0.066252</td>\n",
              "      <td>-0.025613</td>\n",
              "      <td>-0.072577</td>\n",
              "      <td>1.000000</td>\n",
              "      <td>-0.016814</td>\n",
              "      <td>-0.139149</td>\n",
              "      <td>0.087172</td>\n",
              "      <td>-0.100922</td>\n",
              "      <td>0.010629</td>\n",
              "      <td>-0.011635</td>\n",
              "      <td>-0.092322</td>\n",
              "      <td>-0.059776</td>\n",
              "      <td>-0.012222</td>\n",
              "      <td>-0.039064</td>\n",
              "      <td>0.015905</td>\n",
              "      <td>-0.056030</td>\n",
              "      <td>0.045980</td>\n",
              "    </tr>\n",
              "    <tr>\n",
              "      <th>required_car_parking_space</th>\n",
              "      <td>0.004551</td>\n",
              "      <td>-0.014628</td>\n",
              "      <td>0.026916</td>\n",
              "      <td>-0.037671</td>\n",
              "      <td>-0.060155</td>\n",
              "      <td>-0.016814</td>\n",
              "      <td>1.000000</td>\n",
              "      <td>0.036742</td>\n",
              "      <td>-0.084330</td>\n",
              "      <td>0.017161</td>\n",
              "      <td>-0.017495</td>\n",
              "      <td>-0.006198</td>\n",
              "      <td>0.121791</td>\n",
              "      <td>0.163659</td>\n",
              "      <td>0.023254</td>\n",
              "      <td>0.082706</td>\n",
              "      <td>0.054392</td>\n",
              "      <td>0.083465</td>\n",
              "      <td>-0.093262</td>\n",
              "    </tr>\n",
              "    <tr>\n",
              "      <th>room_type_reserved</th>\n",
              "      <td>0.004952</td>\n",
              "      <td>0.160038</td>\n",
              "      <td>0.446015</td>\n",
              "      <td>-0.010716</td>\n",
              "      <td>-0.001363</td>\n",
              "      <td>-0.139149</td>\n",
              "      <td>0.036742</td>\n",
              "      <td>1.000000</td>\n",
              "      <td>-0.224454</td>\n",
              "      <td>0.054004</td>\n",
              "      <td>-0.016770</td>\n",
              "      <td>0.024594</td>\n",
              "      <td>0.258695</td>\n",
              "      <td>-0.038326</td>\n",
              "      <td>-0.010333</td>\n",
              "      <td>-0.016110</td>\n",
              "      <td>0.423991</td>\n",
              "      <td>0.162649</td>\n",
              "      <td>-0.023087</td>\n",
              "    </tr>\n",
              "    <tr>\n",
              "      <th>lead_time</th>\n",
              "      <td>-0.003176</td>\n",
              "      <td>0.085969</td>\n",
              "      <td>-0.151382</td>\n",
              "      <td>0.076146</td>\n",
              "      <td>0.091935</td>\n",
              "      <td>0.087172</td>\n",
              "      <td>-0.084330</td>\n",
              "      <td>-0.224454</td>\n",
              "      <td>1.000000</td>\n",
              "      <td>0.182180</td>\n",
              "      <td>0.133341</td>\n",
              "      <td>0.008967</td>\n",
              "      <td>-0.073728</td>\n",
              "      <td>-0.201637</td>\n",
              "      <td>-0.066618</td>\n",
              "      <td>-0.120447</td>\n",
              "      <td>-0.107403</td>\n",
              "      <td>-0.035659</td>\n",
              "      <td>0.374865</td>\n",
              "    </tr>\n",
              "    <tr>\n",
              "      <th>arrival_year</th>\n",
              "      <td>-0.004313</td>\n",
              "      <td>0.111617</td>\n",
              "      <td>0.043867</td>\n",
              "      <td>0.043962</td>\n",
              "      <td>0.054174</td>\n",
              "      <td>-0.100922</td>\n",
              "      <td>0.017161</td>\n",
              "      <td>0.054004</td>\n",
              "      <td>0.182180</td>\n",
              "      <td>1.000000</td>\n",
              "      <td>-0.311024</td>\n",
              "      <td>0.006512</td>\n",
              "      <td>0.156204</td>\n",
              "      <td>-0.031529</td>\n",
              "      <td>-0.004307</td>\n",
              "      <td>0.014911</td>\n",
              "      <td>0.232151</td>\n",
              "      <td>0.098462</td>\n",
              "      <td>0.178326</td>\n",
              "    </tr>\n",
              "    <tr>\n",
              "      <th>arrival_month</th>\n",
              "      <td>0.005980</td>\n",
              "      <td>0.018059</td>\n",
              "      <td>-0.018420</td>\n",
              "      <td>-0.024495</td>\n",
              "      <td>0.022302</td>\n",
              "      <td>0.010629</td>\n",
              "      <td>-0.017495</td>\n",
              "      <td>-0.016770</td>\n",
              "      <td>0.133341</td>\n",
              "      <td>-0.311024</td>\n",
              "      <td>1.000000</td>\n",
              "      <td>-0.028602</td>\n",
              "      <td>-0.027296</td>\n",
              "      <td>-0.009498</td>\n",
              "      <td>-0.037015</td>\n",
              "      <td>-0.016383</td>\n",
              "      <td>0.004746</td>\n",
              "      <td>0.058336</td>\n",
              "      <td>0.007639</td>\n",
              "    </tr>\n",
              "    <tr>\n",
              "      <th>arrival_date</th>\n",
              "      <td>-0.007283</td>\n",
              "      <td>0.030865</td>\n",
              "      <td>0.026428</td>\n",
              "      <td>0.024276</td>\n",
              "      <td>-0.018058</td>\n",
              "      <td>-0.011635</td>\n",
              "      <td>-0.006198</td>\n",
              "      <td>0.024594</td>\n",
              "      <td>0.008967</td>\n",
              "      <td>0.006512</td>\n",
              "      <td>-0.028602</td>\n",
              "      <td>1.000000</td>\n",
              "      <td>0.007811</td>\n",
              "      <td>-0.004155</td>\n",
              "      <td>-0.008312</td>\n",
              "      <td>-0.000523</td>\n",
              "      <td>-0.006439</td>\n",
              "      <td>0.028791</td>\n",
              "      <td>0.003124</td>\n",
              "    </tr>\n",
              "    <tr>\n",
              "      <th>market_segment_type</th>\n",
              "      <td>0.005699</td>\n",
              "      <td>-0.019303</td>\n",
              "      <td>0.131166</td>\n",
              "      <td>-0.013913</td>\n",
              "      <td>-0.011606</td>\n",
              "      <td>-0.092322</td>\n",
              "      <td>0.121791</td>\n",
              "      <td>0.258695</td>\n",
              "      <td>-0.073728</td>\n",
              "      <td>0.156204</td>\n",
              "      <td>-0.027296</td>\n",
              "      <td>0.007811</td>\n",
              "      <td>1.000000</td>\n",
              "      <td>0.385228</td>\n",
              "      <td>0.094857</td>\n",
              "      <td>0.243284</td>\n",
              "      <td>0.071973</td>\n",
              "      <td>0.248218</td>\n",
              "      <td>0.112648</td>\n",
              "    </tr>\n",
              "    <tr>\n",
              "      <th>repeated_guest</th>\n",
              "      <td>0.002871</td>\n",
              "      <td>-0.249581</td>\n",
              "      <td>-0.047146</td>\n",
              "      <td>-0.082078</td>\n",
              "      <td>-0.132183</td>\n",
              "      <td>-0.059776</td>\n",
              "      <td>0.163659</td>\n",
              "      <td>-0.038326</td>\n",
              "      <td>-0.201637</td>\n",
              "      <td>-0.031529</td>\n",
              "      <td>-0.009498</td>\n",
              "      <td>-0.004155</td>\n",
              "      <td>0.385228</td>\n",
              "      <td>1.000000</td>\n",
              "      <td>0.348925</td>\n",
              "      <td>0.585205</td>\n",
              "      <td>-0.201720</td>\n",
              "      <td>-0.011772</td>\n",
              "      <td>-0.136065</td>\n",
              "    </tr>\n",
              "    <tr>\n",
              "      <th>no_of_previous_cancellations</th>\n",
              "      <td>0.008362</td>\n",
              "      <td>-0.068073</td>\n",
              "      <td>-0.014755</td>\n",
              "      <td>-0.031709</td>\n",
              "      <td>-0.036995</td>\n",
              "      <td>-0.012222</td>\n",
              "      <td>0.023254</td>\n",
              "      <td>-0.010333</td>\n",
              "      <td>-0.066618</td>\n",
              "      <td>-0.004307</td>\n",
              "      <td>-0.037015</td>\n",
              "      <td>-0.008312</td>\n",
              "      <td>0.094857</td>\n",
              "      <td>0.348925</td>\n",
              "      <td>1.000000</td>\n",
              "      <td>0.427274</td>\n",
              "      <td>-0.066916</td>\n",
              "      <td>-0.006447</td>\n",
              "      <td>-0.045599</td>\n",
              "    </tr>\n",
              "    <tr>\n",
              "      <th>no_of_previous_bookings_not_canceled</th>\n",
              "      <td>0.001026</td>\n",
              "      <td>-0.152986</td>\n",
              "      <td>-0.027848</td>\n",
              "      <td>-0.039084</td>\n",
              "      <td>-0.068045</td>\n",
              "      <td>-0.039064</td>\n",
              "      <td>0.082706</td>\n",
              "      <td>-0.016110</td>\n",
              "      <td>-0.120447</td>\n",
              "      <td>0.014911</td>\n",
              "      <td>-0.016383</td>\n",
              "      <td>-0.000523</td>\n",
              "      <td>0.243284</td>\n",
              "      <td>0.585205</td>\n",
              "      <td>0.427274</td>\n",
              "      <td>1.000000</td>\n",
              "      <td>-0.129242</td>\n",
              "      <td>0.011363</td>\n",
              "      <td>-0.080166</td>\n",
              "    </tr>\n",
              "    <tr>\n",
              "      <th>avg_price_per_room</th>\n",
              "      <td>0.002944</td>\n",
              "      <td>0.320082</td>\n",
              "      <td>0.370766</td>\n",
              "      <td>-0.041083</td>\n",
              "      <td>-0.000323</td>\n",
              "      <td>0.015905</td>\n",
              "      <td>0.054392</td>\n",
              "      <td>0.423991</td>\n",
              "      <td>-0.107403</td>\n",
              "      <td>0.232151</td>\n",
              "      <td>0.004746</td>\n",
              "      <td>-0.006439</td>\n",
              "      <td>0.071973</td>\n",
              "      <td>-0.201720</td>\n",
              "      <td>-0.066916</td>\n",
              "      <td>-0.129242</td>\n",
              "      <td>1.000000</td>\n",
              "      <td>0.206168</td>\n",
              "      <td>0.157484</td>\n",
              "    </tr>\n",
              "    <tr>\n",
              "      <th>no_of_special_requests</th>\n",
              "      <td>-0.000743</td>\n",
              "      <td>0.185158</td>\n",
              "      <td>0.164969</td>\n",
              "      <td>0.026503</td>\n",
              "      <td>0.032639</td>\n",
              "      <td>-0.056030</td>\n",
              "      <td>0.083465</td>\n",
              "      <td>0.162649</td>\n",
              "      <td>-0.035659</td>\n",
              "      <td>0.098462</td>\n",
              "      <td>0.058336</td>\n",
              "      <td>0.028791</td>\n",
              "      <td>0.248218</td>\n",
              "      <td>-0.011772</td>\n",
              "      <td>-0.006447</td>\n",
              "      <td>0.011363</td>\n",
              "      <td>0.206168</td>\n",
              "      <td>1.000000</td>\n",
              "      <td>-0.220278</td>\n",
              "    </tr>\n",
              "    <tr>\n",
              "      <th>booking_status</th>\n",
              "      <td>0.007264</td>\n",
              "      <td>0.079760</td>\n",
              "      <td>0.004260</td>\n",
              "      <td>0.044279</td>\n",
              "      <td>0.058506</td>\n",
              "      <td>0.045980</td>\n",
              "      <td>-0.093262</td>\n",
              "      <td>-0.023087</td>\n",
              "      <td>0.374865</td>\n",
              "      <td>0.178326</td>\n",
              "      <td>0.007639</td>\n",
              "      <td>0.003124</td>\n",
              "      <td>0.112648</td>\n",
              "      <td>-0.136065</td>\n",
              "      <td>-0.045599</td>\n",
              "      <td>-0.080166</td>\n",
              "      <td>0.157484</td>\n",
              "      <td>-0.220278</td>\n",
              "      <td>1.000000</td>\n",
              "    </tr>\n",
              "  </tbody>\n",
              "</table>\n",
              "</div>\n",
              "      <button class=\"colab-df-convert\" onclick=\"convertToInteractive('df-6e56d0fc-801c-423f-a926-9a813dcc2cf0')\"\n",
              "              title=\"Convert this dataframe to an interactive table.\"\n",
              "              style=\"display:none;\">\n",
              "        \n",
              "  <svg xmlns=\"http://www.w3.org/2000/svg\" height=\"24px\"viewBox=\"0 0 24 24\"\n",
              "       width=\"24px\">\n",
              "    <path d=\"M0 0h24v24H0V0z\" fill=\"none\"/>\n",
              "    <path d=\"M18.56 5.44l.94 2.06.94-2.06 2.06-.94-2.06-.94-.94-2.06-.94 2.06-2.06.94zm-11 1L8.5 8.5l.94-2.06 2.06-.94-2.06-.94L8.5 2.5l-.94 2.06-2.06.94zm10 10l.94 2.06.94-2.06 2.06-.94-2.06-.94-.94-2.06-.94 2.06-2.06.94z\"/><path d=\"M17.41 7.96l-1.37-1.37c-.4-.4-.92-.59-1.43-.59-.52 0-1.04.2-1.43.59L10.3 9.45l-7.72 7.72c-.78.78-.78 2.05 0 2.83L4 21.41c.39.39.9.59 1.41.59.51 0 1.02-.2 1.41-.59l7.78-7.78 2.81-2.81c.8-.78.8-2.07 0-2.86zM5.41 20L4 18.59l7.72-7.72 1.47 1.35L5.41 20z\"/>\n",
              "  </svg>\n",
              "      </button>\n",
              "      \n",
              "  <style>\n",
              "    .colab-df-container {\n",
              "      display:flex;\n",
              "      flex-wrap:wrap;\n",
              "      gap: 12px;\n",
              "    }\n",
              "\n",
              "    .colab-df-convert {\n",
              "      background-color: #E8F0FE;\n",
              "      border: none;\n",
              "      border-radius: 50%;\n",
              "      cursor: pointer;\n",
              "      display: none;\n",
              "      fill: #1967D2;\n",
              "      height: 32px;\n",
              "      padding: 0 0 0 0;\n",
              "      width: 32px;\n",
              "    }\n",
              "\n",
              "    .colab-df-convert:hover {\n",
              "      background-color: #E2EBFA;\n",
              "      box-shadow: 0px 1px 2px rgba(60, 64, 67, 0.3), 0px 1px 3px 1px rgba(60, 64, 67, 0.15);\n",
              "      fill: #174EA6;\n",
              "    }\n",
              "\n",
              "    [theme=dark] .colab-df-convert {\n",
              "      background-color: #3B4455;\n",
              "      fill: #D2E3FC;\n",
              "    }\n",
              "\n",
              "    [theme=dark] .colab-df-convert:hover {\n",
              "      background-color: #434B5C;\n",
              "      box-shadow: 0px 1px 3px 1px rgba(0, 0, 0, 0.15);\n",
              "      filter: drop-shadow(0px 1px 2px rgba(0, 0, 0, 0.3));\n",
              "      fill: #FFFFFF;\n",
              "    }\n",
              "  </style>\n",
              "\n",
              "      <script>\n",
              "        const buttonEl =\n",
              "          document.querySelector('#df-6e56d0fc-801c-423f-a926-9a813dcc2cf0 button.colab-df-convert');\n",
              "        buttonEl.style.display =\n",
              "          google.colab.kernel.accessAllowed ? 'block' : 'none';\n",
              "\n",
              "        async function convertToInteractive(key) {\n",
              "          const element = document.querySelector('#df-6e56d0fc-801c-423f-a926-9a813dcc2cf0');\n",
              "          const dataTable =\n",
              "            await google.colab.kernel.invokeFunction('convertToInteractive',\n",
              "                                                     [key], {});\n",
              "          if (!dataTable) return;\n",
              "\n",
              "          const docLinkHtml = 'Like what you see? Visit the ' +\n",
              "            '<a target=\"_blank\" href=https://colab.research.google.com/notebooks/data_table.ipynb>data table notebook</a>'\n",
              "            + ' to learn more about interactive tables.';\n",
              "          element.innerHTML = '';\n",
              "          dataTable['output_type'] = 'display_data';\n",
              "          await google.colab.output.renderOutput(dataTable, element);\n",
              "          const docLink = document.createElement('div');\n",
              "          docLink.innerHTML = docLinkHtml;\n",
              "          element.appendChild(docLink);\n",
              "        }\n",
              "      </script>\n",
              "    </div>\n",
              "  </div>\n",
              "  "
            ]
          },
          "metadata": {},
          "execution_count": 106
        }
      ],
      "source": [
        "df.corr()"
      ]
    },
    {
      "cell_type": "code",
      "execution_count": 107,
      "metadata": {
        "id": "i-ywQaLtyYKh"
      },
      "outputs": [],
      "source": [
        "df.drop('id',axis =1 , inplace = True)"
      ]
    },
    {
      "cell_type": "code",
      "source": [
        "df['total_night'] = df['no_of_weekend_nights'] + df['no_of_week_nights']\n",
        "df['total_member'] =df['no_of_adults']+df['no_of_children']"
      ],
      "metadata": {
        "id": "KOmKXb84Mkwa"
      },
      "execution_count": 108,
      "outputs": []
    },
    {
      "cell_type": "code",
      "execution_count": 109,
      "metadata": {
        "colab": {
          "base_uri": "https://localhost:8080/"
        },
        "id": "LXR2MDJvwtc0",
        "outputId": "4f7f5d96-fd91-4dbb-dece-48ad93733c83"
      },
      "outputs": [
        {
          "output_type": "execute_result",
          "data": {
            "text/plain": [
              "no_of_adults                            0\n",
              "no_of_children                          0\n",
              "no_of_weekend_nights                    0\n",
              "no_of_week_nights                       0\n",
              "type_of_meal_plan                       0\n",
              "required_car_parking_space              0\n",
              "room_type_reserved                      0\n",
              "lead_time                               0\n",
              "arrival_year                            0\n",
              "arrival_month                           0\n",
              "arrival_date                            0\n",
              "market_segment_type                     0\n",
              "repeated_guest                          0\n",
              "no_of_previous_cancellations            0\n",
              "no_of_previous_bookings_not_canceled    0\n",
              "avg_price_per_room                      0\n",
              "no_of_special_requests                  0\n",
              "booking_status                          0\n",
              "total_night                             0\n",
              "total_member                            0\n",
              "dtype: int64"
            ]
          },
          "metadata": {},
          "execution_count": 109
        }
      ],
      "source": [
        "df.isna().sum()"
      ]
    },
    {
      "cell_type": "code",
      "execution_count": 110,
      "metadata": {
        "colab": {
          "base_uri": "https://localhost:8080/"
        },
        "id": "Iat8lIB9xCXw",
        "outputId": "a5d9daa6-085a-4688-cfd0-b90c8338ad48"
      },
      "outputs": [
        {
          "output_type": "execute_result",
          "data": {
            "text/plain": [
              "0"
            ]
          },
          "metadata": {},
          "execution_count": 110
        }
      ],
      "source": [
        "df.duplicated().sum()"
      ]
    },
    {
      "cell_type": "code",
      "execution_count": 111,
      "metadata": {
        "colab": {
          "base_uri": "https://localhost:8080/"
        },
        "id": "VjLGsv_axHdk",
        "outputId": "18b1acd6-7b21-4ea8-ce06-d11126d4670b"
      },
      "outputs": [
        {
          "output_type": "execute_result",
          "data": {
            "text/plain": [
              "(42100, 20)"
            ]
          },
          "metadata": {},
          "execution_count": 111
        }
      ],
      "source": [
        "df.shape"
      ]
    },
    {
      "cell_type": "code",
      "source": [
        "df.head()"
      ],
      "metadata": {
        "colab": {
          "base_uri": "https://localhost:8080/",
          "height": 270
        },
        "id": "5JbB2Lr1PScK",
        "outputId": "da80948d-8f4f-4494-91c4-a975e58311db"
      },
      "execution_count": 112,
      "outputs": [
        {
          "output_type": "execute_result",
          "data": {
            "text/plain": [
              "   no_of_adults  no_of_children  no_of_weekend_nights  no_of_week_nights  \\\n",
              "0             2               0                     0                  2   \n",
              "1             2               0                     1                  2   \n",
              "2             2               0                     0                  1   \n",
              "3             1               0                     0                  2   \n",
              "4             2               0                     1                  0   \n",
              "\n",
              "   type_of_meal_plan  required_car_parking_space  room_type_reserved  \\\n",
              "0                  1                           0                   0   \n",
              "1                  0                           0                   0   \n",
              "2                  0                           0                   0   \n",
              "3                  1                           0                   0   \n",
              "4                  0                           0                   0   \n",
              "\n",
              "   lead_time  arrival_year  arrival_month  arrival_date  market_segment_type  \\\n",
              "0          9          2018              1            14                    1   \n",
              "1        117          2018              7            29                    0   \n",
              "2        315          2018             12             2                    0   \n",
              "3         32          2018             12             1                    1   \n",
              "4        258          2018             10            16                    0   \n",
              "\n",
              "   repeated_guest  no_of_previous_cancellations  \\\n",
              "0               1                            11   \n",
              "1               0                             0   \n",
              "2               0                             0   \n",
              "3               0                             0   \n",
              "4               0                             0   \n",
              "\n",
              "   no_of_previous_bookings_not_canceled  avg_price_per_room  \\\n",
              "0                                     0               67.50   \n",
              "1                                     0               72.25   \n",
              "2                                     0               52.00   \n",
              "3                                     0               56.00   \n",
              "4                                     0              100.00   \n",
              "\n",
              "   no_of_special_requests  booking_status  total_night  total_member  \n",
              "0                       0               0            2             2  \n",
              "1                       0               0            3             2  \n",
              "2                       0               0            1             2  \n",
              "3                       0               0            2             1  \n",
              "4                       0               1            1             2  "
            ],
            "text/html": [
              "\n",
              "  <div id=\"df-76d6ce48-3c46-4fe1-a0cd-fd5cae9f9315\">\n",
              "    <div class=\"colab-df-container\">\n",
              "      <div>\n",
              "<style scoped>\n",
              "    .dataframe tbody tr th:only-of-type {\n",
              "        vertical-align: middle;\n",
              "    }\n",
              "\n",
              "    .dataframe tbody tr th {\n",
              "        vertical-align: top;\n",
              "    }\n",
              "\n",
              "    .dataframe thead th {\n",
              "        text-align: right;\n",
              "    }\n",
              "</style>\n",
              "<table border=\"1\" class=\"dataframe\">\n",
              "  <thead>\n",
              "    <tr style=\"text-align: right;\">\n",
              "      <th></th>\n",
              "      <th>no_of_adults</th>\n",
              "      <th>no_of_children</th>\n",
              "      <th>no_of_weekend_nights</th>\n",
              "      <th>no_of_week_nights</th>\n",
              "      <th>type_of_meal_plan</th>\n",
              "      <th>required_car_parking_space</th>\n",
              "      <th>room_type_reserved</th>\n",
              "      <th>lead_time</th>\n",
              "      <th>arrival_year</th>\n",
              "      <th>arrival_month</th>\n",
              "      <th>arrival_date</th>\n",
              "      <th>market_segment_type</th>\n",
              "      <th>repeated_guest</th>\n",
              "      <th>no_of_previous_cancellations</th>\n",
              "      <th>no_of_previous_bookings_not_canceled</th>\n",
              "      <th>avg_price_per_room</th>\n",
              "      <th>no_of_special_requests</th>\n",
              "      <th>booking_status</th>\n",
              "      <th>total_night</th>\n",
              "      <th>total_member</th>\n",
              "    </tr>\n",
              "  </thead>\n",
              "  <tbody>\n",
              "    <tr>\n",
              "      <th>0</th>\n",
              "      <td>2</td>\n",
              "      <td>0</td>\n",
              "      <td>0</td>\n",
              "      <td>2</td>\n",
              "      <td>1</td>\n",
              "      <td>0</td>\n",
              "      <td>0</td>\n",
              "      <td>9</td>\n",
              "      <td>2018</td>\n",
              "      <td>1</td>\n",
              "      <td>14</td>\n",
              "      <td>1</td>\n",
              "      <td>1</td>\n",
              "      <td>11</td>\n",
              "      <td>0</td>\n",
              "      <td>67.50</td>\n",
              "      <td>0</td>\n",
              "      <td>0</td>\n",
              "      <td>2</td>\n",
              "      <td>2</td>\n",
              "    </tr>\n",
              "    <tr>\n",
              "      <th>1</th>\n",
              "      <td>2</td>\n",
              "      <td>0</td>\n",
              "      <td>1</td>\n",
              "      <td>2</td>\n",
              "      <td>0</td>\n",
              "      <td>0</td>\n",
              "      <td>0</td>\n",
              "      <td>117</td>\n",
              "      <td>2018</td>\n",
              "      <td>7</td>\n",
              "      <td>29</td>\n",
              "      <td>0</td>\n",
              "      <td>0</td>\n",
              "      <td>0</td>\n",
              "      <td>0</td>\n",
              "      <td>72.25</td>\n",
              "      <td>0</td>\n",
              "      <td>0</td>\n",
              "      <td>3</td>\n",
              "      <td>2</td>\n",
              "    </tr>\n",
              "    <tr>\n",
              "      <th>2</th>\n",
              "      <td>2</td>\n",
              "      <td>0</td>\n",
              "      <td>0</td>\n",
              "      <td>1</td>\n",
              "      <td>0</td>\n",
              "      <td>0</td>\n",
              "      <td>0</td>\n",
              "      <td>315</td>\n",
              "      <td>2018</td>\n",
              "      <td>12</td>\n",
              "      <td>2</td>\n",
              "      <td>0</td>\n",
              "      <td>0</td>\n",
              "      <td>0</td>\n",
              "      <td>0</td>\n",
              "      <td>52.00</td>\n",
              "      <td>0</td>\n",
              "      <td>0</td>\n",
              "      <td>1</td>\n",
              "      <td>2</td>\n",
              "    </tr>\n",
              "    <tr>\n",
              "      <th>3</th>\n",
              "      <td>1</td>\n",
              "      <td>0</td>\n",
              "      <td>0</td>\n",
              "      <td>2</td>\n",
              "      <td>1</td>\n",
              "      <td>0</td>\n",
              "      <td>0</td>\n",
              "      <td>32</td>\n",
              "      <td>2018</td>\n",
              "      <td>12</td>\n",
              "      <td>1</td>\n",
              "      <td>1</td>\n",
              "      <td>0</td>\n",
              "      <td>0</td>\n",
              "      <td>0</td>\n",
              "      <td>56.00</td>\n",
              "      <td>0</td>\n",
              "      <td>0</td>\n",
              "      <td>2</td>\n",
              "      <td>1</td>\n",
              "    </tr>\n",
              "    <tr>\n",
              "      <th>4</th>\n",
              "      <td>2</td>\n",
              "      <td>0</td>\n",
              "      <td>1</td>\n",
              "      <td>0</td>\n",
              "      <td>0</td>\n",
              "      <td>0</td>\n",
              "      <td>0</td>\n",
              "      <td>258</td>\n",
              "      <td>2018</td>\n",
              "      <td>10</td>\n",
              "      <td>16</td>\n",
              "      <td>0</td>\n",
              "      <td>0</td>\n",
              "      <td>0</td>\n",
              "      <td>0</td>\n",
              "      <td>100.00</td>\n",
              "      <td>0</td>\n",
              "      <td>1</td>\n",
              "      <td>1</td>\n",
              "      <td>2</td>\n",
              "    </tr>\n",
              "  </tbody>\n",
              "</table>\n",
              "</div>\n",
              "      <button class=\"colab-df-convert\" onclick=\"convertToInteractive('df-76d6ce48-3c46-4fe1-a0cd-fd5cae9f9315')\"\n",
              "              title=\"Convert this dataframe to an interactive table.\"\n",
              "              style=\"display:none;\">\n",
              "        \n",
              "  <svg xmlns=\"http://www.w3.org/2000/svg\" height=\"24px\"viewBox=\"0 0 24 24\"\n",
              "       width=\"24px\">\n",
              "    <path d=\"M0 0h24v24H0V0z\" fill=\"none\"/>\n",
              "    <path d=\"M18.56 5.44l.94 2.06.94-2.06 2.06-.94-2.06-.94-.94-2.06-.94 2.06-2.06.94zm-11 1L8.5 8.5l.94-2.06 2.06-.94-2.06-.94L8.5 2.5l-.94 2.06-2.06.94zm10 10l.94 2.06.94-2.06 2.06-.94-2.06-.94-.94-2.06-.94 2.06-2.06.94z\"/><path d=\"M17.41 7.96l-1.37-1.37c-.4-.4-.92-.59-1.43-.59-.52 0-1.04.2-1.43.59L10.3 9.45l-7.72 7.72c-.78.78-.78 2.05 0 2.83L4 21.41c.39.39.9.59 1.41.59.51 0 1.02-.2 1.41-.59l7.78-7.78 2.81-2.81c.8-.78.8-2.07 0-2.86zM5.41 20L4 18.59l7.72-7.72 1.47 1.35L5.41 20z\"/>\n",
              "  </svg>\n",
              "      </button>\n",
              "      \n",
              "  <style>\n",
              "    .colab-df-container {\n",
              "      display:flex;\n",
              "      flex-wrap:wrap;\n",
              "      gap: 12px;\n",
              "    }\n",
              "\n",
              "    .colab-df-convert {\n",
              "      background-color: #E8F0FE;\n",
              "      border: none;\n",
              "      border-radius: 50%;\n",
              "      cursor: pointer;\n",
              "      display: none;\n",
              "      fill: #1967D2;\n",
              "      height: 32px;\n",
              "      padding: 0 0 0 0;\n",
              "      width: 32px;\n",
              "    }\n",
              "\n",
              "    .colab-df-convert:hover {\n",
              "      background-color: #E2EBFA;\n",
              "      box-shadow: 0px 1px 2px rgba(60, 64, 67, 0.3), 0px 1px 3px 1px rgba(60, 64, 67, 0.15);\n",
              "      fill: #174EA6;\n",
              "    }\n",
              "\n",
              "    [theme=dark] .colab-df-convert {\n",
              "      background-color: #3B4455;\n",
              "      fill: #D2E3FC;\n",
              "    }\n",
              "\n",
              "    [theme=dark] .colab-df-convert:hover {\n",
              "      background-color: #434B5C;\n",
              "      box-shadow: 0px 1px 3px 1px rgba(0, 0, 0, 0.15);\n",
              "      filter: drop-shadow(0px 1px 2px rgba(0, 0, 0, 0.3));\n",
              "      fill: #FFFFFF;\n",
              "    }\n",
              "  </style>\n",
              "\n",
              "      <script>\n",
              "        const buttonEl =\n",
              "          document.querySelector('#df-76d6ce48-3c46-4fe1-a0cd-fd5cae9f9315 button.colab-df-convert');\n",
              "        buttonEl.style.display =\n",
              "          google.colab.kernel.accessAllowed ? 'block' : 'none';\n",
              "\n",
              "        async function convertToInteractive(key) {\n",
              "          const element = document.querySelector('#df-76d6ce48-3c46-4fe1-a0cd-fd5cae9f9315');\n",
              "          const dataTable =\n",
              "            await google.colab.kernel.invokeFunction('convertToInteractive',\n",
              "                                                     [key], {});\n",
              "          if (!dataTable) return;\n",
              "\n",
              "          const docLinkHtml = 'Like what you see? Visit the ' +\n",
              "            '<a target=\"_blank\" href=https://colab.research.google.com/notebooks/data_table.ipynb>data table notebook</a>'\n",
              "            + ' to learn more about interactive tables.';\n",
              "          element.innerHTML = '';\n",
              "          dataTable['output_type'] = 'display_data';\n",
              "          await google.colab.output.renderOutput(dataTable, element);\n",
              "          const docLink = document.createElement('div');\n",
              "          docLink.innerHTML = docLinkHtml;\n",
              "          element.appendChild(docLink);\n",
              "        }\n",
              "      </script>\n",
              "    </div>\n",
              "  </div>\n",
              "  "
            ]
          },
          "metadata": {},
          "execution_count": 112
        }
      ]
    },
    {
      "cell_type": "code",
      "execution_count": 113,
      "metadata": {
        "id": "eWolhg5lx_0K"
      },
      "outputs": [],
      "source": [
        "x = df.drop('booking_status' , axis = 1)\n",
        "y= df['booking_status']"
      ]
    },
    {
      "cell_type": "code",
      "source": [
        "x.head()"
      ],
      "metadata": {
        "colab": {
          "base_uri": "https://localhost:8080/",
          "height": 270
        },
        "id": "jthc7e_1OuMV",
        "outputId": "03077c54-b923-41a8-983d-5a1c9fc71433"
      },
      "execution_count": 114,
      "outputs": [
        {
          "output_type": "execute_result",
          "data": {
            "text/plain": [
              "   no_of_adults  no_of_children  no_of_weekend_nights  no_of_week_nights  \\\n",
              "0             2               0                     0                  2   \n",
              "1             2               0                     1                  2   \n",
              "2             2               0                     0                  1   \n",
              "3             1               0                     0                  2   \n",
              "4             2               0                     1                  0   \n",
              "\n",
              "   type_of_meal_plan  required_car_parking_space  room_type_reserved  \\\n",
              "0                  1                           0                   0   \n",
              "1                  0                           0                   0   \n",
              "2                  0                           0                   0   \n",
              "3                  1                           0                   0   \n",
              "4                  0                           0                   0   \n",
              "\n",
              "   lead_time  arrival_year  arrival_month  arrival_date  market_segment_type  \\\n",
              "0          9          2018              1            14                    1   \n",
              "1        117          2018              7            29                    0   \n",
              "2        315          2018             12             2                    0   \n",
              "3         32          2018             12             1                    1   \n",
              "4        258          2018             10            16                    0   \n",
              "\n",
              "   repeated_guest  no_of_previous_cancellations  \\\n",
              "0               1                            11   \n",
              "1               0                             0   \n",
              "2               0                             0   \n",
              "3               0                             0   \n",
              "4               0                             0   \n",
              "\n",
              "   no_of_previous_bookings_not_canceled  avg_price_per_room  \\\n",
              "0                                     0               67.50   \n",
              "1                                     0               72.25   \n",
              "2                                     0               52.00   \n",
              "3                                     0               56.00   \n",
              "4                                     0              100.00   \n",
              "\n",
              "   no_of_special_requests  total_night  total_member  \n",
              "0                       0            2             2  \n",
              "1                       0            3             2  \n",
              "2                       0            1             2  \n",
              "3                       0            2             1  \n",
              "4                       0            1             2  "
            ],
            "text/html": [
              "\n",
              "  <div id=\"df-dc26341f-08b2-4126-a663-4c6ca291c11d\">\n",
              "    <div class=\"colab-df-container\">\n",
              "      <div>\n",
              "<style scoped>\n",
              "    .dataframe tbody tr th:only-of-type {\n",
              "        vertical-align: middle;\n",
              "    }\n",
              "\n",
              "    .dataframe tbody tr th {\n",
              "        vertical-align: top;\n",
              "    }\n",
              "\n",
              "    .dataframe thead th {\n",
              "        text-align: right;\n",
              "    }\n",
              "</style>\n",
              "<table border=\"1\" class=\"dataframe\">\n",
              "  <thead>\n",
              "    <tr style=\"text-align: right;\">\n",
              "      <th></th>\n",
              "      <th>no_of_adults</th>\n",
              "      <th>no_of_children</th>\n",
              "      <th>no_of_weekend_nights</th>\n",
              "      <th>no_of_week_nights</th>\n",
              "      <th>type_of_meal_plan</th>\n",
              "      <th>required_car_parking_space</th>\n",
              "      <th>room_type_reserved</th>\n",
              "      <th>lead_time</th>\n",
              "      <th>arrival_year</th>\n",
              "      <th>arrival_month</th>\n",
              "      <th>arrival_date</th>\n",
              "      <th>market_segment_type</th>\n",
              "      <th>repeated_guest</th>\n",
              "      <th>no_of_previous_cancellations</th>\n",
              "      <th>no_of_previous_bookings_not_canceled</th>\n",
              "      <th>avg_price_per_room</th>\n",
              "      <th>no_of_special_requests</th>\n",
              "      <th>total_night</th>\n",
              "      <th>total_member</th>\n",
              "    </tr>\n",
              "  </thead>\n",
              "  <tbody>\n",
              "    <tr>\n",
              "      <th>0</th>\n",
              "      <td>2</td>\n",
              "      <td>0</td>\n",
              "      <td>0</td>\n",
              "      <td>2</td>\n",
              "      <td>1</td>\n",
              "      <td>0</td>\n",
              "      <td>0</td>\n",
              "      <td>9</td>\n",
              "      <td>2018</td>\n",
              "      <td>1</td>\n",
              "      <td>14</td>\n",
              "      <td>1</td>\n",
              "      <td>1</td>\n",
              "      <td>11</td>\n",
              "      <td>0</td>\n",
              "      <td>67.50</td>\n",
              "      <td>0</td>\n",
              "      <td>2</td>\n",
              "      <td>2</td>\n",
              "    </tr>\n",
              "    <tr>\n",
              "      <th>1</th>\n",
              "      <td>2</td>\n",
              "      <td>0</td>\n",
              "      <td>1</td>\n",
              "      <td>2</td>\n",
              "      <td>0</td>\n",
              "      <td>0</td>\n",
              "      <td>0</td>\n",
              "      <td>117</td>\n",
              "      <td>2018</td>\n",
              "      <td>7</td>\n",
              "      <td>29</td>\n",
              "      <td>0</td>\n",
              "      <td>0</td>\n",
              "      <td>0</td>\n",
              "      <td>0</td>\n",
              "      <td>72.25</td>\n",
              "      <td>0</td>\n",
              "      <td>3</td>\n",
              "      <td>2</td>\n",
              "    </tr>\n",
              "    <tr>\n",
              "      <th>2</th>\n",
              "      <td>2</td>\n",
              "      <td>0</td>\n",
              "      <td>0</td>\n",
              "      <td>1</td>\n",
              "      <td>0</td>\n",
              "      <td>0</td>\n",
              "      <td>0</td>\n",
              "      <td>315</td>\n",
              "      <td>2018</td>\n",
              "      <td>12</td>\n",
              "      <td>2</td>\n",
              "      <td>0</td>\n",
              "      <td>0</td>\n",
              "      <td>0</td>\n",
              "      <td>0</td>\n",
              "      <td>52.00</td>\n",
              "      <td>0</td>\n",
              "      <td>1</td>\n",
              "      <td>2</td>\n",
              "    </tr>\n",
              "    <tr>\n",
              "      <th>3</th>\n",
              "      <td>1</td>\n",
              "      <td>0</td>\n",
              "      <td>0</td>\n",
              "      <td>2</td>\n",
              "      <td>1</td>\n",
              "      <td>0</td>\n",
              "      <td>0</td>\n",
              "      <td>32</td>\n",
              "      <td>2018</td>\n",
              "      <td>12</td>\n",
              "      <td>1</td>\n",
              "      <td>1</td>\n",
              "      <td>0</td>\n",
              "      <td>0</td>\n",
              "      <td>0</td>\n",
              "      <td>56.00</td>\n",
              "      <td>0</td>\n",
              "      <td>2</td>\n",
              "      <td>1</td>\n",
              "    </tr>\n",
              "    <tr>\n",
              "      <th>4</th>\n",
              "      <td>2</td>\n",
              "      <td>0</td>\n",
              "      <td>1</td>\n",
              "      <td>0</td>\n",
              "      <td>0</td>\n",
              "      <td>0</td>\n",
              "      <td>0</td>\n",
              "      <td>258</td>\n",
              "      <td>2018</td>\n",
              "      <td>10</td>\n",
              "      <td>16</td>\n",
              "      <td>0</td>\n",
              "      <td>0</td>\n",
              "      <td>0</td>\n",
              "      <td>0</td>\n",
              "      <td>100.00</td>\n",
              "      <td>0</td>\n",
              "      <td>1</td>\n",
              "      <td>2</td>\n",
              "    </tr>\n",
              "  </tbody>\n",
              "</table>\n",
              "</div>\n",
              "      <button class=\"colab-df-convert\" onclick=\"convertToInteractive('df-dc26341f-08b2-4126-a663-4c6ca291c11d')\"\n",
              "              title=\"Convert this dataframe to an interactive table.\"\n",
              "              style=\"display:none;\">\n",
              "        \n",
              "  <svg xmlns=\"http://www.w3.org/2000/svg\" height=\"24px\"viewBox=\"0 0 24 24\"\n",
              "       width=\"24px\">\n",
              "    <path d=\"M0 0h24v24H0V0z\" fill=\"none\"/>\n",
              "    <path d=\"M18.56 5.44l.94 2.06.94-2.06 2.06-.94-2.06-.94-.94-2.06-.94 2.06-2.06.94zm-11 1L8.5 8.5l.94-2.06 2.06-.94-2.06-.94L8.5 2.5l-.94 2.06-2.06.94zm10 10l.94 2.06.94-2.06 2.06-.94-2.06-.94-.94-2.06-.94 2.06-2.06.94z\"/><path d=\"M17.41 7.96l-1.37-1.37c-.4-.4-.92-.59-1.43-.59-.52 0-1.04.2-1.43.59L10.3 9.45l-7.72 7.72c-.78.78-.78 2.05 0 2.83L4 21.41c.39.39.9.59 1.41.59.51 0 1.02-.2 1.41-.59l7.78-7.78 2.81-2.81c.8-.78.8-2.07 0-2.86zM5.41 20L4 18.59l7.72-7.72 1.47 1.35L5.41 20z\"/>\n",
              "  </svg>\n",
              "      </button>\n",
              "      \n",
              "  <style>\n",
              "    .colab-df-container {\n",
              "      display:flex;\n",
              "      flex-wrap:wrap;\n",
              "      gap: 12px;\n",
              "    }\n",
              "\n",
              "    .colab-df-convert {\n",
              "      background-color: #E8F0FE;\n",
              "      border: none;\n",
              "      border-radius: 50%;\n",
              "      cursor: pointer;\n",
              "      display: none;\n",
              "      fill: #1967D2;\n",
              "      height: 32px;\n",
              "      padding: 0 0 0 0;\n",
              "      width: 32px;\n",
              "    }\n",
              "\n",
              "    .colab-df-convert:hover {\n",
              "      background-color: #E2EBFA;\n",
              "      box-shadow: 0px 1px 2px rgba(60, 64, 67, 0.3), 0px 1px 3px 1px rgba(60, 64, 67, 0.15);\n",
              "      fill: #174EA6;\n",
              "    }\n",
              "\n",
              "    [theme=dark] .colab-df-convert {\n",
              "      background-color: #3B4455;\n",
              "      fill: #D2E3FC;\n",
              "    }\n",
              "\n",
              "    [theme=dark] .colab-df-convert:hover {\n",
              "      background-color: #434B5C;\n",
              "      box-shadow: 0px 1px 3px 1px rgba(0, 0, 0, 0.15);\n",
              "      filter: drop-shadow(0px 1px 2px rgba(0, 0, 0, 0.3));\n",
              "      fill: #FFFFFF;\n",
              "    }\n",
              "  </style>\n",
              "\n",
              "      <script>\n",
              "        const buttonEl =\n",
              "          document.querySelector('#df-dc26341f-08b2-4126-a663-4c6ca291c11d button.colab-df-convert');\n",
              "        buttonEl.style.display =\n",
              "          google.colab.kernel.accessAllowed ? 'block' : 'none';\n",
              "\n",
              "        async function convertToInteractive(key) {\n",
              "          const element = document.querySelector('#df-dc26341f-08b2-4126-a663-4c6ca291c11d');\n",
              "          const dataTable =\n",
              "            await google.colab.kernel.invokeFunction('convertToInteractive',\n",
              "                                                     [key], {});\n",
              "          if (!dataTable) return;\n",
              "\n",
              "          const docLinkHtml = 'Like what you see? Visit the ' +\n",
              "            '<a target=\"_blank\" href=https://colab.research.google.com/notebooks/data_table.ipynb>data table notebook</a>'\n",
              "            + ' to learn more about interactive tables.';\n",
              "          element.innerHTML = '';\n",
              "          dataTable['output_type'] = 'display_data';\n",
              "          await google.colab.output.renderOutput(dataTable, element);\n",
              "          const docLink = document.createElement('div');\n",
              "          docLink.innerHTML = docLinkHtml;\n",
              "          element.appendChild(docLink);\n",
              "        }\n",
              "      </script>\n",
              "    </div>\n",
              "  </div>\n",
              "  "
            ]
          },
          "metadata": {},
          "execution_count": 114
        }
      ]
    },
    {
      "cell_type": "code",
      "execution_count": 115,
      "metadata": {
        "colab": {
          "base_uri": "https://localhost:8080/"
        },
        "id": "MmT8RYuUyPZn",
        "outputId": "c620e4d1-79fe-442f-bc03-a3cd8a072287"
      },
      "outputs": [
        {
          "output_type": "execute_result",
          "data": {
            "text/plain": [
              "(42100, 19)"
            ]
          },
          "metadata": {},
          "execution_count": 115
        }
      ],
      "source": [
        "x.shape"
      ]
    },
    {
      "cell_type": "code",
      "execution_count": 116,
      "metadata": {
        "colab": {
          "base_uri": "https://localhost:8080/"
        },
        "id": "euZ-BjcYypU3",
        "outputId": "bbbae1d0-a83d-499e-abbd-0c3e7068a20b"
      },
      "outputs": [
        {
          "output_type": "execute_result",
          "data": {
            "text/plain": [
              "array([0, 1])"
            ]
          },
          "metadata": {},
          "execution_count": 116
        }
      ],
      "source": [
        "y.unique()"
      ]
    },
    {
      "cell_type": "code",
      "source": [
        "from sklearn.decomposition import PCA\n",
        "pca = PCA(n_components = 5)\n",
        "x = pca.fit_transform(x)\n"
      ],
      "metadata": {
        "id": "yoNQaAL4ObTc"
      },
      "execution_count": 117,
      "outputs": []
    },
    {
      "cell_type": "code",
      "execution_count": 118,
      "metadata": {
        "id": "Bsjv7Bg9xkm0"
      },
      "outputs": [],
      "source": [
        "from sklearn.model_selection import train_test_split\n",
        "x_train , x_test , y_train ,y_test = train_test_split(x,y,test_size =0.2 , random_state =0)"
      ]
    },
    {
      "cell_type": "code",
      "execution_count": 119,
      "metadata": {
        "id": "0G6mV5RD5st4"
      },
      "outputs": [],
      "source": [
        "from sklearn.preprocessing import StandardScaler\n",
        "ss = StandardScaler()\n",
        "x_train = ss.fit_transform(x_train)\n",
        "x_test = ss.transform(x_test)"
      ]
    },
    {
      "cell_type": "code",
      "source": [
        "x_train.shape"
      ],
      "metadata": {
        "colab": {
          "base_uri": "https://localhost:8080/"
        },
        "id": "DpG2mqirPwfe",
        "outputId": "4af60a06-fe44-48b2-bb16-dbfae1cd8994"
      },
      "execution_count": 120,
      "outputs": [
        {
          "output_type": "execute_result",
          "data": {
            "text/plain": [
              "(33680, 5)"
            ]
          },
          "metadata": {},
          "execution_count": 120
        }
      ]
    },
    {
      "cell_type": "code",
      "execution_count": 121,
      "metadata": {
        "id": "bNtiVPKLxMMc"
      },
      "outputs": [],
      "source": [
        "model = Sequential()"
      ]
    },
    {
      "cell_type": "code",
      "execution_count": 122,
      "metadata": {
        "colab": {
          "base_uri": "https://localhost:8080/"
        },
        "id": "Q-tv4ZDzxTsF",
        "outputId": "f1c04c15-a774-452c-fcab-99448e95e356"
      },
      "outputs": [
        {
          "output_type": "stream",
          "name": "stdout",
          "text": [
            "Model: \"sequential_2\"\n",
            "_________________________________________________________________\n",
            " Layer (type)                Output Shape              Param #   \n",
            "=================================================================\n",
            " dense_15 (Dense)            (None, 38)                228       \n",
            "                                                                 \n",
            " dropout_13 (Dropout)        (None, 38)                0         \n",
            "                                                                 \n",
            " dense_16 (Dense)            (None, 1)                 39        \n",
            "                                                                 \n",
            "=================================================================\n",
            "Total params: 267\n",
            "Trainable params: 267\n",
            "Non-trainable params: 0\n",
            "_________________________________________________________________\n"
          ]
        }
      ],
      "source": [
        "model.add(Dense(38 , activation = 'relu' , kernel_initializer = 'he_uniform', input_dim =5))\n",
        "model.add(Dropout(0.2))\n",
        "model.add(Dense(1 , activation = 'sigmoid'))\n",
        "model.compile(optimizer = 'adam', loss = 'binary_crossentropy' , metrics = ['accuracy'])\n",
        "model.summary()"
      ]
    },
    {
      "cell_type": "code",
      "execution_count": 123,
      "metadata": {
        "colab": {
          "base_uri": "https://localhost:8080/"
        },
        "id": "uJJycBBIzrHM",
        "outputId": "ff825842-092d-4b9e-8dd2-05425453f769"
      },
      "outputs": [
        {
          "output_type": "stream",
          "name": "stdout",
          "text": [
            "Epoch 1/30\n",
            "1123/1123 [==============================] - 7s 5ms/step - loss: 0.5957 - accuracy: 0.6885 - val_loss: 0.5584 - val_accuracy: 0.7127\n",
            "Epoch 2/30\n",
            "1123/1123 [==============================] - 4s 4ms/step - loss: 0.5683 - accuracy: 0.7044 - val_loss: 0.5553 - val_accuracy: 0.7119\n",
            "Epoch 3/30\n",
            "1123/1123 [==============================] - 4s 4ms/step - loss: 0.5624 - accuracy: 0.7086 - val_loss: 0.5559 - val_accuracy: 0.7126\n",
            "Epoch 4/30\n",
            "1123/1123 [==============================] - 6s 5ms/step - loss: 0.5590 - accuracy: 0.7088 - val_loss: 0.5535 - val_accuracy: 0.7125\n",
            "Epoch 5/30\n",
            "1123/1123 [==============================] - 4s 4ms/step - loss: 0.5586 - accuracy: 0.7102 - val_loss: 0.5523 - val_accuracy: 0.7154\n",
            "Epoch 6/30\n",
            "1123/1123 [==============================] - 5s 5ms/step - loss: 0.5582 - accuracy: 0.7095 - val_loss: 0.5526 - val_accuracy: 0.7148\n",
            "Epoch 7/30\n",
            "1123/1123 [==============================] - 4s 4ms/step - loss: 0.5561 - accuracy: 0.7121 - val_loss: 0.5523 - val_accuracy: 0.7116\n",
            "Epoch 8/30\n",
            "1123/1123 [==============================] - 4s 4ms/step - loss: 0.5562 - accuracy: 0.7110 - val_loss: 0.5520 - val_accuracy: 0.7146\n",
            "Epoch 9/30\n",
            "1123/1123 [==============================] - 5s 5ms/step - loss: 0.5554 - accuracy: 0.7121 - val_loss: 0.5519 - val_accuracy: 0.7138\n",
            "Epoch 10/30\n",
            "1123/1123 [==============================] - 4s 4ms/step - loss: 0.5554 - accuracy: 0.7109 - val_loss: 0.5512 - val_accuracy: 0.7153\n",
            "Epoch 11/30\n",
            "1123/1123 [==============================] - 4s 4ms/step - loss: 0.5548 - accuracy: 0.7104 - val_loss: 0.5504 - val_accuracy: 0.7160\n",
            "Epoch 12/30\n",
            "1123/1123 [==============================] - 5s 5ms/step - loss: 0.5545 - accuracy: 0.7126 - val_loss: 0.5500 - val_accuracy: 0.7170\n",
            "Epoch 13/30\n",
            "1123/1123 [==============================] - 4s 4ms/step - loss: 0.5530 - accuracy: 0.7126 - val_loss: 0.5496 - val_accuracy: 0.7170\n",
            "Epoch 14/30\n",
            "1123/1123 [==============================] - 5s 4ms/step - loss: 0.5542 - accuracy: 0.7125 - val_loss: 0.5500 - val_accuracy: 0.7165\n",
            "Epoch 15/30\n",
            "1123/1123 [==============================] - 5s 4ms/step - loss: 0.5535 - accuracy: 0.7124 - val_loss: 0.5507 - val_accuracy: 0.7146\n",
            "Epoch 16/30\n",
            "1123/1123 [==============================] - 4s 4ms/step - loss: 0.5534 - accuracy: 0.7110 - val_loss: 0.5496 - val_accuracy: 0.7175\n",
            "Epoch 17/30\n",
            "1123/1123 [==============================] - 5s 5ms/step - loss: 0.5532 - accuracy: 0.7131 - val_loss: 0.5489 - val_accuracy: 0.7167\n",
            "Epoch 18/30\n",
            "1123/1123 [==============================] - 4s 4ms/step - loss: 0.5541 - accuracy: 0.7137 - val_loss: 0.5504 - val_accuracy: 0.7188\n",
            "Epoch 19/30\n",
            "1123/1123 [==============================] - 4s 4ms/step - loss: 0.5528 - accuracy: 0.7136 - val_loss: 0.5493 - val_accuracy: 0.7189\n",
            "Epoch 20/30\n",
            "1123/1123 [==============================] - 5s 5ms/step - loss: 0.5531 - accuracy: 0.7134 - val_loss: 0.5490 - val_accuracy: 0.7171\n",
            "Epoch 21/30\n",
            "1123/1123 [==============================] - 4s 4ms/step - loss: 0.5534 - accuracy: 0.7135 - val_loss: 0.5491 - val_accuracy: 0.7159\n",
            "Epoch 22/30\n",
            "1123/1123 [==============================] - 4s 4ms/step - loss: 0.5531 - accuracy: 0.7124 - val_loss: 0.5491 - val_accuracy: 0.7169\n",
            "Epoch 23/30\n",
            "1123/1123 [==============================] - 5s 5ms/step - loss: 0.5530 - accuracy: 0.7132 - val_loss: 0.5495 - val_accuracy: 0.7165\n",
            "Epoch 24/30\n",
            "1123/1123 [==============================] - 4s 4ms/step - loss: 0.5527 - accuracy: 0.7127 - val_loss: 0.5488 - val_accuracy: 0.7150\n",
            "Epoch 25/30\n",
            "1123/1123 [==============================] - 6s 5ms/step - loss: 0.5528 - accuracy: 0.7126 - val_loss: 0.5488 - val_accuracy: 0.7182\n",
            "Epoch 26/30\n",
            "1123/1123 [==============================] - 4s 4ms/step - loss: 0.5520 - accuracy: 0.7137 - val_loss: 0.5484 - val_accuracy: 0.7166\n",
            "Epoch 27/30\n",
            "1123/1123 [==============================] - 4s 4ms/step - loss: 0.5523 - accuracy: 0.7143 - val_loss: 0.5480 - val_accuracy: 0.7186\n",
            "Epoch 28/30\n",
            "1123/1123 [==============================] - 5s 5ms/step - loss: 0.5522 - accuracy: 0.7162 - val_loss: 0.5488 - val_accuracy: 0.7169\n",
            "Epoch 29/30\n",
            "1123/1123 [==============================] - 5s 4ms/step - loss: 0.5523 - accuracy: 0.7128 - val_loss: 0.5480 - val_accuracy: 0.7158\n",
            "Epoch 30/30\n",
            "1123/1123 [==============================] - 5s 5ms/step - loss: 0.5510 - accuracy: 0.7148 - val_loss: 0.5479 - val_accuracy: 0.7175\n"
          ]
        },
        {
          "output_type": "execute_result",
          "data": {
            "text/plain": [
              "<keras.callbacks.History at 0x7f284cdedae0>"
            ]
          },
          "metadata": {},
          "execution_count": 123
        }
      ],
      "source": [
        "model.fit(x_train , y_train , validation_data =(x_test,y_test) , epochs =30 , batch_size =30)\n"
      ]
    },
    {
      "cell_type": "code",
      "execution_count": 124,
      "metadata": {
        "colab": {
          "base_uri": "https://localhost:8080/"
        },
        "id": "DwV41_-az57X",
        "outputId": "b1e58e85-dd3a-4a44-fc68-426c4c42ba18"
      },
      "outputs": [
        {
          "output_type": "stream",
          "name": "stdout",
          "text": [
            "Looking in indexes: https://pypi.org/simple, https://us-python.pkg.dev/colab-wheels/public/simple/\n",
            "Requirement already satisfied: keras_tuner in /usr/local/lib/python3.10/dist-packages (1.3.5)\n",
            "Requirement already satisfied: packaging in /usr/local/lib/python3.10/dist-packages (from keras_tuner) (23.1)\n",
            "Requirement already satisfied: requests in /usr/local/lib/python3.10/dist-packages (from keras_tuner) (2.27.1)\n",
            "Requirement already satisfied: kt-legacy in /usr/local/lib/python3.10/dist-packages (from keras_tuner) (1.0.5)\n",
            "Requirement already satisfied: urllib3<1.27,>=1.21.1 in /usr/local/lib/python3.10/dist-packages (from requests->keras_tuner) (1.26.15)\n",
            "Requirement already satisfied: certifi>=2017.4.17 in /usr/local/lib/python3.10/dist-packages (from requests->keras_tuner) (2022.12.7)\n",
            "Requirement already satisfied: charset-normalizer~=2.0.0 in /usr/local/lib/python3.10/dist-packages (from requests->keras_tuner) (2.0.12)\n",
            "Requirement already satisfied: idna<4,>=2.5 in /usr/local/lib/python3.10/dist-packages (from requests->keras_tuner) (3.4)\n"
          ]
        }
      ],
      "source": [
        "!pip install keras_tuner\n",
        "import keras_tuner as kt\n"
      ]
    },
    {
      "cell_type": "code",
      "execution_count": 125,
      "metadata": {
        "id": "rChu2PLB0sgX"
      },
      "outputs": [],
      "source": [
        "def build_in(hp):\n",
        "  model= Sequential()\n",
        "  counter =0 \n",
        "  for i in range(hp.Int('num_layers' , min_value = 1, max_value = 17)):\n",
        "    if counter == 0:\n",
        "      model.add(Dense(units = hp.Int('units'+str(i),min_value=10 , max_value = 128 , step =1),\n",
        "                activation = hp.Choice('activation'+str(i),values=['relu','tanh','sigmoid','elu','LeakyReLU']),\n",
        "                kernel_initializer=hp.Choice('ki'+str(i),values = ['glorot_normal','glorot_uniform','he_uniform','he_normal']),\n",
        "                input_dim =5))\n",
        "      model.add(Dropout(hp.Choice('dropout'+str(i),values =[0.1,0.2,0.3,0.4,0.5,0.6,0.7,0.8,0.9])))\n",
        "    else:\n",
        "      model.add(Dense(units = hp.Int('units'+str(i),min_value=10 , max_value = 128 , step =1),\n",
        "              activation = hp.Choice('activation'+str(i),values=['relu','tanh','sigmoid','elu','LeakyReLU']),\n",
        "              kernel_initializer=hp.Choice('ki'+str(i),values = ['glorot_normal','glorot_uniform','he_uniform','he_normal']),\n",
        "              input_dim =5))\n",
        "      model.add(Dropout(hp.Choice('dropout'+str(i),values =[0.1,0.2,0.3,0.4,0.5,0.6,0.7,0.8,0.9])))\n",
        "  model.add(Dense(units=1,activation='sigmoid'))\n",
        "  model.compile(optimizer=hp.Choice('optimizer',values = ['adam','rmsprop','adadelta']),loss = 'categorical_crossentropy',metrics = ['accuracy'])\n",
        "  return model"
      ]
    },
    {
      "cell_type": "code",
      "execution_count": 126,
      "metadata": {
        "id": "8u3zXqu-09s7"
      },
      "outputs": [],
      "source": [
        "tuner = kt.RandomSearch(build_in , objective= 'val_accuracy' , max_trials =5 , directory ='mydir' ,project_name='reservation_cancellation')"
      ]
    },
    {
      "cell_type": "code",
      "execution_count": 127,
      "metadata": {
        "id": "XfVLcKJK1CD1"
      },
      "outputs": [],
      "source": [
        "tuner.search(x_train , y_train , validation_data = (x_test ,y_test),epochs =5 ,batch_size =30)"
      ]
    },
    {
      "cell_type": "code",
      "execution_count": 128,
      "metadata": {
        "id": "Sc0Yck9A1ZMs",
        "colab": {
          "base_uri": "https://localhost:8080/",
          "height": 74
        },
        "outputId": "c9fec230-8f2d-4162-bfb6-2551b70fcc27"
      },
      "outputs": [
        {
          "output_type": "execute_result",
          "data": {
            "text/plain": [
              "LogisticRegression()"
            ],
            "text/html": [
              "<style>#sk-container-id-6 {color: black;background-color: white;}#sk-container-id-6 pre{padding: 0;}#sk-container-id-6 div.sk-toggleable {background-color: white;}#sk-container-id-6 label.sk-toggleable__label {cursor: pointer;display: block;width: 100%;margin-bottom: 0;padding: 0.3em;box-sizing: border-box;text-align: center;}#sk-container-id-6 label.sk-toggleable__label-arrow:before {content: \"▸\";float: left;margin-right: 0.25em;color: #696969;}#sk-container-id-6 label.sk-toggleable__label-arrow:hover:before {color: black;}#sk-container-id-6 div.sk-estimator:hover label.sk-toggleable__label-arrow:before {color: black;}#sk-container-id-6 div.sk-toggleable__content {max-height: 0;max-width: 0;overflow: hidden;text-align: left;background-color: #f0f8ff;}#sk-container-id-6 div.sk-toggleable__content pre {margin: 0.2em;color: black;border-radius: 0.25em;background-color: #f0f8ff;}#sk-container-id-6 input.sk-toggleable__control:checked~div.sk-toggleable__content {max-height: 200px;max-width: 100%;overflow: auto;}#sk-container-id-6 input.sk-toggleable__control:checked~label.sk-toggleable__label-arrow:before {content: \"▾\";}#sk-container-id-6 div.sk-estimator input.sk-toggleable__control:checked~label.sk-toggleable__label {background-color: #d4ebff;}#sk-container-id-6 div.sk-label input.sk-toggleable__control:checked~label.sk-toggleable__label {background-color: #d4ebff;}#sk-container-id-6 input.sk-hidden--visually {border: 0;clip: rect(1px 1px 1px 1px);clip: rect(1px, 1px, 1px, 1px);height: 1px;margin: -1px;overflow: hidden;padding: 0;position: absolute;width: 1px;}#sk-container-id-6 div.sk-estimator {font-family: monospace;background-color: #f0f8ff;border: 1px dotted black;border-radius: 0.25em;box-sizing: border-box;margin-bottom: 0.5em;}#sk-container-id-6 div.sk-estimator:hover {background-color: #d4ebff;}#sk-container-id-6 div.sk-parallel-item::after {content: \"\";width: 100%;border-bottom: 1px solid gray;flex-grow: 1;}#sk-container-id-6 div.sk-label:hover label.sk-toggleable__label {background-color: #d4ebff;}#sk-container-id-6 div.sk-serial::before {content: \"\";position: absolute;border-left: 1px solid gray;box-sizing: border-box;top: 0;bottom: 0;left: 50%;z-index: 0;}#sk-container-id-6 div.sk-serial {display: flex;flex-direction: column;align-items: center;background-color: white;padding-right: 0.2em;padding-left: 0.2em;position: relative;}#sk-container-id-6 div.sk-item {position: relative;z-index: 1;}#sk-container-id-6 div.sk-parallel {display: flex;align-items: stretch;justify-content: center;background-color: white;position: relative;}#sk-container-id-6 div.sk-item::before, #sk-container-id-6 div.sk-parallel-item::before {content: \"\";position: absolute;border-left: 1px solid gray;box-sizing: border-box;top: 0;bottom: 0;left: 50%;z-index: -1;}#sk-container-id-6 div.sk-parallel-item {display: flex;flex-direction: column;z-index: 1;position: relative;background-color: white;}#sk-container-id-6 div.sk-parallel-item:first-child::after {align-self: flex-end;width: 50%;}#sk-container-id-6 div.sk-parallel-item:last-child::after {align-self: flex-start;width: 50%;}#sk-container-id-6 div.sk-parallel-item:only-child::after {width: 0;}#sk-container-id-6 div.sk-dashed-wrapped {border: 1px dashed gray;margin: 0 0.4em 0.5em 0.4em;box-sizing: border-box;padding-bottom: 0.4em;background-color: white;}#sk-container-id-6 div.sk-label label {font-family: monospace;font-weight: bold;display: inline-block;line-height: 1.2em;}#sk-container-id-6 div.sk-label-container {text-align: center;}#sk-container-id-6 div.sk-container {/* jupyter's `normalize.less` sets `[hidden] { display: none; }` but bootstrap.min.css set `[hidden] { display: none !important; }` so we also need the `!important` here to be able to override the default hidden behavior on the sphinx rendered scikit-learn.org. See: https://github.com/scikit-learn/scikit-learn/issues/21755 */display: inline-block !important;position: relative;}#sk-container-id-6 div.sk-text-repr-fallback {display: none;}</style><div id=\"sk-container-id-6\" class=\"sk-top-container\"><div class=\"sk-text-repr-fallback\"><pre>LogisticRegression()</pre><b>In a Jupyter environment, please rerun this cell to show the HTML representation or trust the notebook. <br />On GitHub, the HTML representation is unable to render, please try loading this page with nbviewer.org.</b></div><div class=\"sk-container\" hidden><div class=\"sk-item\"><div class=\"sk-estimator sk-toggleable\"><input class=\"sk-toggleable__control sk-hidden--visually\" id=\"sk-estimator-id-6\" type=\"checkbox\" checked><label for=\"sk-estimator-id-6\" class=\"sk-toggleable__label sk-toggleable__label-arrow\">LogisticRegression</label><div class=\"sk-toggleable__content\"><pre>LogisticRegression()</pre></div></div></div></div></div>"
            ]
          },
          "metadata": {},
          "execution_count": 128
        }
      ],
      "source": [
        "from sklearn.linear_model import LogisticRegression\n",
        "lr = LogisticRegression()\n",
        "lr.fit(x_train,y_train)"
      ]
    },
    {
      "cell_type": "code",
      "source": [
        "lr.score(x_train , y_train)"
      ],
      "metadata": {
        "colab": {
          "base_uri": "https://localhost:8080/"
        },
        "id": "ktg-1Lq9Q89F",
        "outputId": "a38e9cc4-a780-4082-fe02-c28d2f230fc8"
      },
      "execution_count": 129,
      "outputs": [
        {
          "output_type": "execute_result",
          "data": {
            "text/plain": [
              "0.7116092636579573"
            ]
          },
          "metadata": {},
          "execution_count": 129
        }
      ]
    },
    {
      "cell_type": "code",
      "source": [
        "lr.score(x_test , y_test)"
      ],
      "metadata": {
        "colab": {
          "base_uri": "https://localhost:8080/"
        },
        "id": "1JdWA9JbROck",
        "outputId": "eaa20185-daa2-4572-8ee4-fff76734f502"
      },
      "execution_count": 130,
      "outputs": [
        {
          "output_type": "execute_result",
          "data": {
            "text/plain": [
              "0.709501187648456"
            ]
          },
          "metadata": {},
          "execution_count": 130
        }
      ]
    },
    {
      "cell_type": "code",
      "source": [
        "from sklearn.ensemble import RandomForestClassifier\n",
        "rf = RandomForestClassifier(n_estimators =50)\n",
        "rf.fit(x_train , y_train)"
      ],
      "metadata": {
        "colab": {
          "base_uri": "https://localhost:8080/",
          "height": 74
        },
        "id": "hKyC4jGSRTz4",
        "outputId": "8f3edb5e-d7f8-4629-ee51-f3c76e659ce0"
      },
      "execution_count": 132,
      "outputs": [
        {
          "output_type": "execute_result",
          "data": {
            "text/plain": [
              "RandomForestClassifier(n_estimators=50)"
            ],
            "text/html": [
              "<style>#sk-container-id-7 {color: black;background-color: white;}#sk-container-id-7 pre{padding: 0;}#sk-container-id-7 div.sk-toggleable {background-color: white;}#sk-container-id-7 label.sk-toggleable__label {cursor: pointer;display: block;width: 100%;margin-bottom: 0;padding: 0.3em;box-sizing: border-box;text-align: center;}#sk-container-id-7 label.sk-toggleable__label-arrow:before {content: \"▸\";float: left;margin-right: 0.25em;color: #696969;}#sk-container-id-7 label.sk-toggleable__label-arrow:hover:before {color: black;}#sk-container-id-7 div.sk-estimator:hover label.sk-toggleable__label-arrow:before {color: black;}#sk-container-id-7 div.sk-toggleable__content {max-height: 0;max-width: 0;overflow: hidden;text-align: left;background-color: #f0f8ff;}#sk-container-id-7 div.sk-toggleable__content pre {margin: 0.2em;color: black;border-radius: 0.25em;background-color: #f0f8ff;}#sk-container-id-7 input.sk-toggleable__control:checked~div.sk-toggleable__content {max-height: 200px;max-width: 100%;overflow: auto;}#sk-container-id-7 input.sk-toggleable__control:checked~label.sk-toggleable__label-arrow:before {content: \"▾\";}#sk-container-id-7 div.sk-estimator input.sk-toggleable__control:checked~label.sk-toggleable__label {background-color: #d4ebff;}#sk-container-id-7 div.sk-label input.sk-toggleable__control:checked~label.sk-toggleable__label {background-color: #d4ebff;}#sk-container-id-7 input.sk-hidden--visually {border: 0;clip: rect(1px 1px 1px 1px);clip: rect(1px, 1px, 1px, 1px);height: 1px;margin: -1px;overflow: hidden;padding: 0;position: absolute;width: 1px;}#sk-container-id-7 div.sk-estimator {font-family: monospace;background-color: #f0f8ff;border: 1px dotted black;border-radius: 0.25em;box-sizing: border-box;margin-bottom: 0.5em;}#sk-container-id-7 div.sk-estimator:hover {background-color: #d4ebff;}#sk-container-id-7 div.sk-parallel-item::after {content: \"\";width: 100%;border-bottom: 1px solid gray;flex-grow: 1;}#sk-container-id-7 div.sk-label:hover label.sk-toggleable__label {background-color: #d4ebff;}#sk-container-id-7 div.sk-serial::before {content: \"\";position: absolute;border-left: 1px solid gray;box-sizing: border-box;top: 0;bottom: 0;left: 50%;z-index: 0;}#sk-container-id-7 div.sk-serial {display: flex;flex-direction: column;align-items: center;background-color: white;padding-right: 0.2em;padding-left: 0.2em;position: relative;}#sk-container-id-7 div.sk-item {position: relative;z-index: 1;}#sk-container-id-7 div.sk-parallel {display: flex;align-items: stretch;justify-content: center;background-color: white;position: relative;}#sk-container-id-7 div.sk-item::before, #sk-container-id-7 div.sk-parallel-item::before {content: \"\";position: absolute;border-left: 1px solid gray;box-sizing: border-box;top: 0;bottom: 0;left: 50%;z-index: -1;}#sk-container-id-7 div.sk-parallel-item {display: flex;flex-direction: column;z-index: 1;position: relative;background-color: white;}#sk-container-id-7 div.sk-parallel-item:first-child::after {align-self: flex-end;width: 50%;}#sk-container-id-7 div.sk-parallel-item:last-child::after {align-self: flex-start;width: 50%;}#sk-container-id-7 div.sk-parallel-item:only-child::after {width: 0;}#sk-container-id-7 div.sk-dashed-wrapped {border: 1px dashed gray;margin: 0 0.4em 0.5em 0.4em;box-sizing: border-box;padding-bottom: 0.4em;background-color: white;}#sk-container-id-7 div.sk-label label {font-family: monospace;font-weight: bold;display: inline-block;line-height: 1.2em;}#sk-container-id-7 div.sk-label-container {text-align: center;}#sk-container-id-7 div.sk-container {/* jupyter's `normalize.less` sets `[hidden] { display: none; }` but bootstrap.min.css set `[hidden] { display: none !important; }` so we also need the `!important` here to be able to override the default hidden behavior on the sphinx rendered scikit-learn.org. See: https://github.com/scikit-learn/scikit-learn/issues/21755 */display: inline-block !important;position: relative;}#sk-container-id-7 div.sk-text-repr-fallback {display: none;}</style><div id=\"sk-container-id-7\" class=\"sk-top-container\"><div class=\"sk-text-repr-fallback\"><pre>RandomForestClassifier(n_estimators=50)</pre><b>In a Jupyter environment, please rerun this cell to show the HTML representation or trust the notebook. <br />On GitHub, the HTML representation is unable to render, please try loading this page with nbviewer.org.</b></div><div class=\"sk-container\" hidden><div class=\"sk-item\"><div class=\"sk-estimator sk-toggleable\"><input class=\"sk-toggleable__control sk-hidden--visually\" id=\"sk-estimator-id-7\" type=\"checkbox\" checked><label for=\"sk-estimator-id-7\" class=\"sk-toggleable__label sk-toggleable__label-arrow\">RandomForestClassifier</label><div class=\"sk-toggleable__content\"><pre>RandomForestClassifier(n_estimators=50)</pre></div></div></div></div></div>"
            ]
          },
          "metadata": {},
          "execution_count": 132
        }
      ]
    },
    {
      "cell_type": "code",
      "source": [
        "rf.score(x_train , y_train)"
      ],
      "metadata": {
        "colab": {
          "base_uri": "https://localhost:8080/"
        },
        "id": "5vmet4R_RmhC",
        "outputId": "37d75e42-201a-4fb1-e47b-683e47129ec9"
      },
      "execution_count": 133,
      "outputs": [
        {
          "output_type": "execute_result",
          "data": {
            "text/plain": [
              "0.9891627078384798"
            ]
          },
          "metadata": {},
          "execution_count": 133
        }
      ]
    },
    {
      "cell_type": "code",
      "source": [
        "rf.score(x_test , y_test)"
      ],
      "metadata": {
        "colab": {
          "base_uri": "https://localhost:8080/"
        },
        "id": "uIO9oWcWRsEc",
        "outputId": "173c1803-b2c3-46af-85d8-20d2ee2d15f2"
      },
      "execution_count": 134,
      "outputs": [
        {
          "output_type": "execute_result",
          "data": {
            "text/plain": [
              "0.7370546318289786"
            ]
          },
          "metadata": {},
          "execution_count": 134
        }
      ]
    },
    {
      "cell_type": "code",
      "source": [
        "ypred = rf.predict(x_test)"
      ],
      "metadata": {
        "id": "yO2icT5cSFH-"
      },
      "execution_count": 135,
      "outputs": []
    },
    {
      "cell_type": "code",
      "source": [
        "from sklearn.metrics import accuracy_score\n",
        "accuracy_score(y_test ,ypred)"
      ],
      "metadata": {
        "colab": {
          "base_uri": "https://localhost:8080/"
        },
        "id": "uJxS0z6CRyks",
        "outputId": "f1af9953-b019-4594-95cd-728bb0697412"
      },
      "execution_count": 136,
      "outputs": [
        {
          "output_type": "execute_result",
          "data": {
            "text/plain": [
              "0.7370546318289786"
            ]
          },
          "metadata": {},
          "execution_count": 136
        }
      ]
    },
    {
      "cell_type": "code",
      "source": [
        "from sklearn.model_selection import cross_val_score\n",
        "cv = cross_val_score(rf ,x,y,cv=5)"
      ],
      "metadata": {
        "id": "fdG5UfoXSOpN"
      },
      "execution_count": 137,
      "outputs": []
    },
    {
      "cell_type": "code",
      "source": [
        "cv = np.mean(cv)"
      ],
      "metadata": {
        "id": "0j-bWwg6U6Hs"
      },
      "execution_count": 138,
      "outputs": []
    },
    {
      "cell_type": "code",
      "source": [
        "cv"
      ],
      "metadata": {
        "colab": {
          "base_uri": "https://localhost:8080/"
        },
        "id": "xEOK8wc0U-15",
        "outputId": "bf3e21f4-8845-4593-df50-58fede212179"
      },
      "execution_count": 139,
      "outputs": [
        {
          "output_type": "execute_result",
          "data": {
            "text/plain": [
              "0.7376009501187648"
            ]
          },
          "metadata": {},
          "execution_count": 139
        }
      ]
    },
    {
      "cell_type": "code",
      "source": [
        "import xgboost as xgb\n",
        "xgb =xgb.XGBClassifier()"
      ],
      "metadata": {
        "id": "3kDDPmVvVQTA"
      },
      "execution_count": 140,
      "outputs": []
    },
    {
      "cell_type": "code",
      "source": [
        "xgb.fit(x_train,y_train)"
      ],
      "metadata": {
        "colab": {
          "base_uri": "https://localhost:8080/",
          "height": 248
        },
        "id": "LjbRDoEIV42f",
        "outputId": "fa7cdd14-bf6c-448d-e393-1c75f1c0d629"
      },
      "execution_count": 141,
      "outputs": [
        {
          "output_type": "execute_result",
          "data": {
            "text/plain": [
              "XGBClassifier(base_score=None, booster=None, callbacks=None,\n",
              "              colsample_bylevel=None, colsample_bynode=None,\n",
              "              colsample_bytree=None, early_stopping_rounds=None,\n",
              "              enable_categorical=False, eval_metric=None, feature_types=None,\n",
              "              gamma=None, gpu_id=None, grow_policy=None, importance_type=None,\n",
              "              interaction_constraints=None, learning_rate=None, max_bin=None,\n",
              "              max_cat_threshold=None, max_cat_to_onehot=None,\n",
              "              max_delta_step=None, max_depth=None, max_leaves=None,\n",
              "              min_child_weight=None, missing=nan, monotone_constraints=None,\n",
              "              n_estimators=100, n_jobs=None, num_parallel_tree=None,\n",
              "              predictor=None, random_state=None, ...)"
            ],
            "text/html": [
              "<style>#sk-container-id-8 {color: black;background-color: white;}#sk-container-id-8 pre{padding: 0;}#sk-container-id-8 div.sk-toggleable {background-color: white;}#sk-container-id-8 label.sk-toggleable__label {cursor: pointer;display: block;width: 100%;margin-bottom: 0;padding: 0.3em;box-sizing: border-box;text-align: center;}#sk-container-id-8 label.sk-toggleable__label-arrow:before {content: \"▸\";float: left;margin-right: 0.25em;color: #696969;}#sk-container-id-8 label.sk-toggleable__label-arrow:hover:before {color: black;}#sk-container-id-8 div.sk-estimator:hover label.sk-toggleable__label-arrow:before {color: black;}#sk-container-id-8 div.sk-toggleable__content {max-height: 0;max-width: 0;overflow: hidden;text-align: left;background-color: #f0f8ff;}#sk-container-id-8 div.sk-toggleable__content pre {margin: 0.2em;color: black;border-radius: 0.25em;background-color: #f0f8ff;}#sk-container-id-8 input.sk-toggleable__control:checked~div.sk-toggleable__content {max-height: 200px;max-width: 100%;overflow: auto;}#sk-container-id-8 input.sk-toggleable__control:checked~label.sk-toggleable__label-arrow:before {content: \"▾\";}#sk-container-id-8 div.sk-estimator input.sk-toggleable__control:checked~label.sk-toggleable__label {background-color: #d4ebff;}#sk-container-id-8 div.sk-label input.sk-toggleable__control:checked~label.sk-toggleable__label {background-color: #d4ebff;}#sk-container-id-8 input.sk-hidden--visually {border: 0;clip: rect(1px 1px 1px 1px);clip: rect(1px, 1px, 1px, 1px);height: 1px;margin: -1px;overflow: hidden;padding: 0;position: absolute;width: 1px;}#sk-container-id-8 div.sk-estimator {font-family: monospace;background-color: #f0f8ff;border: 1px dotted black;border-radius: 0.25em;box-sizing: border-box;margin-bottom: 0.5em;}#sk-container-id-8 div.sk-estimator:hover {background-color: #d4ebff;}#sk-container-id-8 div.sk-parallel-item::after {content: \"\";width: 100%;border-bottom: 1px solid gray;flex-grow: 1;}#sk-container-id-8 div.sk-label:hover label.sk-toggleable__label {background-color: #d4ebff;}#sk-container-id-8 div.sk-serial::before {content: \"\";position: absolute;border-left: 1px solid gray;box-sizing: border-box;top: 0;bottom: 0;left: 50%;z-index: 0;}#sk-container-id-8 div.sk-serial {display: flex;flex-direction: column;align-items: center;background-color: white;padding-right: 0.2em;padding-left: 0.2em;position: relative;}#sk-container-id-8 div.sk-item {position: relative;z-index: 1;}#sk-container-id-8 div.sk-parallel {display: flex;align-items: stretch;justify-content: center;background-color: white;position: relative;}#sk-container-id-8 div.sk-item::before, #sk-container-id-8 div.sk-parallel-item::before {content: \"\";position: absolute;border-left: 1px solid gray;box-sizing: border-box;top: 0;bottom: 0;left: 50%;z-index: -1;}#sk-container-id-8 div.sk-parallel-item {display: flex;flex-direction: column;z-index: 1;position: relative;background-color: white;}#sk-container-id-8 div.sk-parallel-item:first-child::after {align-self: flex-end;width: 50%;}#sk-container-id-8 div.sk-parallel-item:last-child::after {align-self: flex-start;width: 50%;}#sk-container-id-8 div.sk-parallel-item:only-child::after {width: 0;}#sk-container-id-8 div.sk-dashed-wrapped {border: 1px dashed gray;margin: 0 0.4em 0.5em 0.4em;box-sizing: border-box;padding-bottom: 0.4em;background-color: white;}#sk-container-id-8 div.sk-label label {font-family: monospace;font-weight: bold;display: inline-block;line-height: 1.2em;}#sk-container-id-8 div.sk-label-container {text-align: center;}#sk-container-id-8 div.sk-container {/* jupyter's `normalize.less` sets `[hidden] { display: none; }` but bootstrap.min.css set `[hidden] { display: none !important; }` so we also need the `!important` here to be able to override the default hidden behavior on the sphinx rendered scikit-learn.org. See: https://github.com/scikit-learn/scikit-learn/issues/21755 */display: inline-block !important;position: relative;}#sk-container-id-8 div.sk-text-repr-fallback {display: none;}</style><div id=\"sk-container-id-8\" class=\"sk-top-container\"><div class=\"sk-text-repr-fallback\"><pre>XGBClassifier(base_score=None, booster=None, callbacks=None,\n",
              "              colsample_bylevel=None, colsample_bynode=None,\n",
              "              colsample_bytree=None, early_stopping_rounds=None,\n",
              "              enable_categorical=False, eval_metric=None, feature_types=None,\n",
              "              gamma=None, gpu_id=None, grow_policy=None, importance_type=None,\n",
              "              interaction_constraints=None, learning_rate=None, max_bin=None,\n",
              "              max_cat_threshold=None, max_cat_to_onehot=None,\n",
              "              max_delta_step=None, max_depth=None, max_leaves=None,\n",
              "              min_child_weight=None, missing=nan, monotone_constraints=None,\n",
              "              n_estimators=100, n_jobs=None, num_parallel_tree=None,\n",
              "              predictor=None, random_state=None, ...)</pre><b>In a Jupyter environment, please rerun this cell to show the HTML representation or trust the notebook. <br />On GitHub, the HTML representation is unable to render, please try loading this page with nbviewer.org.</b></div><div class=\"sk-container\" hidden><div class=\"sk-item\"><div class=\"sk-estimator sk-toggleable\"><input class=\"sk-toggleable__control sk-hidden--visually\" id=\"sk-estimator-id-8\" type=\"checkbox\" checked><label for=\"sk-estimator-id-8\" class=\"sk-toggleable__label sk-toggleable__label-arrow\">XGBClassifier</label><div class=\"sk-toggleable__content\"><pre>XGBClassifier(base_score=None, booster=None, callbacks=None,\n",
              "              colsample_bylevel=None, colsample_bynode=None,\n",
              "              colsample_bytree=None, early_stopping_rounds=None,\n",
              "              enable_categorical=False, eval_metric=None, feature_types=None,\n",
              "              gamma=None, gpu_id=None, grow_policy=None, importance_type=None,\n",
              "              interaction_constraints=None, learning_rate=None, max_bin=None,\n",
              "              max_cat_threshold=None, max_cat_to_onehot=None,\n",
              "              max_delta_step=None, max_depth=None, max_leaves=None,\n",
              "              min_child_weight=None, missing=nan, monotone_constraints=None,\n",
              "              n_estimators=100, n_jobs=None, num_parallel_tree=None,\n",
              "              predictor=None, random_state=None, ...)</pre></div></div></div></div></div>"
            ]
          },
          "metadata": {},
          "execution_count": 141
        }
      ]
    },
    {
      "cell_type": "code",
      "source": [
        "xgb.score(x_train , y_train)"
      ],
      "metadata": {
        "colab": {
          "base_uri": "https://localhost:8080/"
        },
        "id": "RSgTzKJuV-Aq",
        "outputId": "15e97579-b00c-4cd9-9bfe-6efeaed32eb6"
      },
      "execution_count": 142,
      "outputs": [
        {
          "output_type": "execute_result",
          "data": {
            "text/plain": [
              "0.8216745843230404"
            ]
          },
          "metadata": {},
          "execution_count": 142
        }
      ]
    },
    {
      "cell_type": "code",
      "source": [
        "xgb.score(x_test , y_test)"
      ],
      "metadata": {
        "colab": {
          "base_uri": "https://localhost:8080/"
        },
        "id": "Rq33pT22WF1m",
        "outputId": "2c7b5bb8-c4f6-4862-8ec2-843ad2ee2b11"
      },
      "execution_count": 143,
      "outputs": [
        {
          "output_type": "execute_result",
          "data": {
            "text/plain": [
              "0.7483372921615202"
            ]
          },
          "metadata": {},
          "execution_count": 143
        }
      ]
    },
    {
      "cell_type": "code",
      "source": [
        "from sklearn.model_selection import cross_val_score\n",
        "xgb_cv = cross_val_score(xgb ,x,y,cv=5)"
      ],
      "metadata": {
        "id": "ExAuEwGdWLhu"
      },
      "execution_count": 144,
      "outputs": []
    },
    {
      "cell_type": "code",
      "source": [
        "xgb_cv.mean()"
      ],
      "metadata": {
        "colab": {
          "base_uri": "https://localhost:8080/"
        },
        "id": "YU-fXKWpWUOF",
        "outputId": "b16c1695-e3b1-4e8d-beeb-09856b96b9de"
      },
      "execution_count": 145,
      "outputs": [
        {
          "output_type": "execute_result",
          "data": {
            "text/plain": [
              "0.7458907363420428"
            ]
          },
          "metadata": {},
          "execution_count": 145
        }
      ]
    },
    {
      "cell_type": "code",
      "source": [],
      "metadata": {
        "id": "oxEdMEpFWWzS"
      },
      "execution_count": null,
      "outputs": []
    }
  ]
}